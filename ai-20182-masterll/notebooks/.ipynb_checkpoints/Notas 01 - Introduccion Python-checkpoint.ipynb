{
 "cells": [
  {
   "cell_type": "markdown",
   "metadata": {},
   "source": [
    "<img src=\"../imgs/notas1_1.png\" style=\"width:700px;\">\n",
    "\n",
    "# <center> 01. Python Introduction! </center>\n",
    " \n",
    " \n",
    "1. **Python** is a high-level, dynamically typed multiparadigm and general-purpose programming language. The main use in this course is for scientific computing, allowing a powerful environment and the use odf some popular libraries are numpy, scipy and matplotlib\n",
    "2. **Jupyter notebook** is a web based application to create and share dynamic documents with code, equations, text and visualization. \n",
    "3. **Numpy** is a scientific library that provides a high-performance multidimensional array object, and tools for working with these arrays\n",
    " \n",
    "---"
   ]
  },
  {
   "cell_type": "markdown",
   "metadata": {},
   "source": [
    "<p style=\"font-size:20px;font-weight:bold;\"><span style=\"color:#FFF; background-color:#080; font-weight:bold; padding:4px;\">PYTHON</span></p>"
   ]
  },
  {
   "cell_type": "markdown",
   "metadata": {},
   "source": [
    "## Basic types and operations: an automatic assignation"
   ]
  },
  {
   "cell_type": "markdown",
   "metadata": {},
   "source": [
    " Python has a number of basic types including integers (int), floats (float), booleans (bool), and strings (str) and even complex number representations (complex). In python the variable declaration is **not** explicit, the interpreter try to infer the type according to the use. \n",
    "\n",
    "The operations has different semantics according to data type. For instance: Why result of the same operations are different?"
   ]
  },
  {
   "cell_type": "code",
   "execution_count": 2,
   "metadata": {},
   "outputs": [
    {
     "name": "stdout",
     "output_type": "stream",
     "text": [
      "(<type 'int'>, <type 'int'>, <type 'float'>, <type 'str'>)\n",
      "('a =', 10, '; b =', 3, '; c =', 3.0)\n",
      "('a/b =', 3)\n",
      "('a/c =', 3.3333333333333335)\n",
      "<type 'float'>\n",
      "3.0\n",
      "4.0\n",
      "2.0\n",
      "6.0\n",
      "9.0\n"
     ]
    }
   ],
   "source": [
    "a = 10\n",
    "b = 3\n",
    "c = 3.\n",
    "d = \"hola\"\n",
    "print( type(a), type(b), type(c), type(d))\n",
    "\n",
    "print(\"a =\",a,\"; b =\",b, \"; c =\",c)\n",
    "print( \"a/b =\", a/b)\n",
    "print( \"a/c =\", a/c)\n",
    "\n",
    "print(type(c)) # Prints \"<class 'int'>\"\n",
    "print(c)       # Prints \"3\"\n",
    "print(c + 1)   # Addition; prints \"4\"\n",
    "print(c - 1)   # Subtraction; prints \"2\"\n",
    "print(c * 2)   # Multiplication; prints \"6\"\n",
    "print(c ** 2)  # Exponentiation; prints \"9\""
   ]
  },
  {
   "cell_type": "markdown",
   "metadata": {},
   "source": [
    "## <span style=\"color:orange\">student</span>: \n",
    "How it is possible to increase in one a variable? for instance `c`"
   ]
  },
  {
   "cell_type": "code",
   "execution_count": 3,
   "metadata": {},
   "outputs": [
    {
     "name": "stdout",
     "output_type": "stream",
     "text": [
      "4.0\n",
      "8.0\n"
     ]
    }
   ],
   "source": [
    "c += 1\n",
    "print(c)  # Prints \"4\"\n",
    "c *= 2\n",
    "print(c)  # Prints \"8\"\n"
   ]
  },
  {
   "cell_type": "markdown",
   "metadata": {},
   "source": [
    "<h2><span style=\"color:#FFF; background-color:#F00; font-weight:bold; padding:4px;\">Important!</span></h2><br><h2 style=\"margin-top:-10px;\"></h2>\n",
    "\n",
    "- Python does not have unary increment (x++) or decrement (x--) operators\n",
    "- Python implements all of the usual operators for Boolean logic, but uses English words rather than symbols (&&, ||, etc.)"
   ]
  },
  {
   "cell_type": "code",
   "execution_count": 4,
   "metadata": {},
   "outputs": [
    {
     "name": "stdout",
     "output_type": "stream",
     "text": [
      "<type 'bool'>\n",
      "False\n",
      "True\n",
      "False\n",
      "True\n"
     ]
    }
   ],
   "source": [
    "t = True\n",
    "f = False\n",
    "print(type(t)) \n",
    "print(t and f)\n",
    "print(t or f)  \n",
    "print(not t)   \n",
    "print(t != f)  "
   ]
  },
  {
   "cell_type": "markdown",
   "metadata": {},
   "source": [
    "## Lists\n",
    "A list is the Python equivalent of an array, but is resizeable and can contain elements of different types:"
   ]
  },
  {
   "cell_type": "code",
   "execution_count": 5,
   "metadata": {},
   "outputs": [
    {
     "name": "stdout",
     "output_type": "stream",
     "text": [
      "([3, 1, 2], 2)\n",
      "2\n",
      "[3, 1, 'foo']\n",
      "[3, 1, 'foo', 'bar']\n",
      "('bar', [3, 1, 'foo'])\n"
     ]
    }
   ],
   "source": [
    "xs = [3, 1, 2]    # Create a list\n",
    "print(xs, xs[2])  # Prints \"[3, 1, 2] 2\"\n",
    "print(xs[-1])     # Negative indices count from the end of the list; prints \"2\"\n",
    "xs[2] = 'foo'     # Lists can contain elements of different types\n",
    "print(xs)         # Prints \"[3, 1, 'foo']\"\n",
    "xs.append('bar')  # Add a new element to the end of the list\n",
    "print(xs)         # Prints \"[3, 1, 'foo', 'bar']\"\n",
    "x = xs.pop()      # Remove and return the last element of the list\n",
    "print(x, xs)      # Prints \"bar [3, 1, 'foo']\"\n",
    "\n",
    "l = [1, 'a', 1.0, 1-1j]\n"
   ]
  },
  {
   "cell_type": "markdown",
   "metadata": {},
   "source": [
    "## slicing and loops \n",
    "\n",
    "- Python provides a particular syntax to access sublists, known as slicing.\n",
    "- Python provides also special mechanism to loop over the elements of a list\n"
   ]
  },
  {
   "cell_type": "code",
   "execution_count": 6,
   "metadata": {},
   "outputs": [
    {
     "name": "stdout",
     "output_type": "stream",
     "text": [
      "[0, 1, 2, 3, 4]\n",
      "[2, 3]\n",
      "[2, 3, 4]\n",
      "[0, 1]\n",
      "[0, 1, 2, 3, 4]\n",
      "[0, 1, 2, 3]\n",
      "[0, 1, 8, 9, 4]\n"
     ]
    }
   ],
   "source": [
    "nums = list(range(5))     # range is a built-in function that creates a list of integers\n",
    "print(nums)               # Prints \"[0, 1, 2, 3, 4]\"\n",
    "print(nums[2:4])          # Get a slice from index 2 to 4 (exclusive); prints \"[2, 3]\"\n",
    "print(nums[2:])           # Get a slice from index 2 to the end; prints \"[2, 3, 4]\"\n",
    "print(nums[:2])           # Get a slice from the start to index 2 (exclusive); prints \"[0, 1]\"\n",
    "print(nums[:])            # Get a slice of the whole list; prints \"[0, 1, 2, 3, 4]\"\n",
    "print(nums[:-1])          # Slice indices can be negative; prints \"[0, 1, 2, 3]\"\n",
    "nums[2:4] = [8, 9]        # Assign a new sublist to a slice\n",
    "print(nums)     "
   ]
  },
  {
   "cell_type": "code",
   "execution_count": 31,
   "metadata": {},
   "outputs": [
    {
     "name": "stdout",
     "output_type": "stream",
     "text": [
      "cat\n",
      "dog\n",
      "monkey\n",
      "0\n",
      "1\n",
      "2\n",
      "#1: cat\n",
      "#2: dog\n",
      "#3: monkey\n",
      "[0, 1, 4, 9, 16]\n",
      "[0, 4, 16]\n"
     ]
    }
   ],
   "source": [
    "animals = ['cat', 'dog', 'monkey']\n",
    "for animal in animals:\n",
    "    print(animal)\n",
    "    \n",
    "for i in  range(len(animals)):\n",
    "    print i\n",
    "#  to the index of each element within the body of a loop\n",
    "for idx, animal in enumerate(animals):\n",
    "    print('#%d: %s' % (idx + 1, animal))\n",
    "#  list comprehension\n",
    "\n",
    "nums = [0, 1, 2, 3, 4]\n",
    "squares = [x ** 2 for x in nums]\n",
    "print(squares)   # Prints [0, 1, 4, 9, 16]\n",
    "\n",
    "\n",
    "nums = [0, 1, 2, 3, 4]\n",
    "even_squares = [x ** 2 for x in nums if x % 2 == 0]\n",
    "print(even_squares)  # Prints \"[0, 4, 16]\""
   ]
  },
  {
   "cell_type": "markdown",
   "metadata": {},
   "source": [
    "---\n",
    "<p style=\"font-size:20px;font-weight:bold;\"><span style=\"color:#FFF; background-color:#080; font-weight:bold; padding:4px;\">NUMPY</span></p>"
   ]
  },
  {
   "cell_type": "markdown",
   "metadata": {},
   "source": [
    "## Vector and matrices from `ndarray`"
   ]
  },
  {
   "cell_type": "markdown",
   "metadata": {},
   "source": [
    "The `Numpy`  library allows the efficient manage of the matrices and also the matrices are expressed naturally. \n",
    "\n",
    "- `ndarray` are homogenous (same type)  **data containers**  and **functions** to operate over the data. Operations are highly efficient. \n",
    "    - It is indexed as non-negative integers\n",
    "    - The number of dimensions is the `rank`\n",
    "    - `shape` is a tuple with size along each dimension\n",
    "Some initial notation and how the dimensions works are expressed as follows. "
   ]
  },
  {
   "cell_type": "code",
   "execution_count": 8,
   "metadata": {},
   "outputs": [
    {
     "name": "stdout",
     "output_type": "stream",
     "text": [
      "a shape (7, 5)\n",
      "a rows 7\n",
      "a cols 5\n",
      "v shape (8,)\n",
      "v elems 8\n",
      "<type 'numpy.ndarray'>\n",
      "int64\n"
     ]
    }
   ],
   "source": [
    "import numpy as np # the convention to import numpy\n",
    "\n",
    "a = np.array([[1,2,3,4,5],\n",
    "              [5,4,3,2,1],\n",
    "              [9,8,7,6,5],\n",
    "              [7,6,5,6,7],\n",
    "              [2,2,2,3,3],\n",
    "              [4,3,4,3,4],\n",
    "              [5,1,1,4,1]])\n",
    "print \"a shape\", a.shape # (filas, columnas)\n",
    "print \"a rows\", a.shape[0]\n",
    "print \"a cols\", a.shape[1]\n",
    "\n",
    "v = np.array([2,3,4,5,6,7,3,12])\n",
    "print \"v shape\", v.shape\n",
    "print \"v elems\", v.shape[0]\n",
    "print(type(v))\n",
    "\n",
    "x = np.array([1, 2], dtype=np.int64)   # Force a particular datatype\n",
    "print(x.dtype)  "
   ]
  },
  {
   "cell_type": "code",
   "execution_count": 9,
   "metadata": {},
   "outputs": [
    {
     "data": {
      "text/plain": [
       "2"
      ]
     },
     "execution_count": 9,
     "metadata": {},
     "output_type": "execute_result"
    }
   ],
   "source": [
    "len(a.shape)"
   ]
  },
  {
   "cell_type": "markdown",
   "metadata": {},
   "source": [
    "In a `ndarray`, we can has slicing flexibility. We can acess in rows and columns indexes or slicing in matrices"
   ]
  },
  {
   "cell_type": "code",
   "execution_count": 10,
   "metadata": {},
   "outputs": [
    {
     "name": "stdout",
     "output_type": "stream",
     "text": [
      "[[1 2 3 4 5]\n",
      " [5 4 3 2 1]\n",
      " [9 8 7 6 5]\n",
      " [7 6 5 6 7]\n",
      " [2 2 2 3 3]\n",
      " [4 3 4 3 4]\n",
      " [5 1 1 4 1]]\n",
      "\n",
      "('una fila        ', array([9, 8, 7, 6, 5]))\n",
      "('una fila        ', array([9, 8, 7, 6, 5]))\n",
      "('una columna     ', array([3, 3, 7, 5, 2, 4, 1]))\n",
      "('un elemento     ', 7)\n",
      "('varias filas    \\n', array([[9, 8, 7, 6, 5],\n",
      "       [7, 6, 5, 6, 7],\n",
      "       [2, 2, 2, 3, 3]]))\n",
      "('varias columnas \\n', array([[2, 3],\n",
      "       [4, 3],\n",
      "       [8, 7],\n",
      "       [6, 5],\n",
      "       [2, 2],\n",
      "       [3, 4],\n",
      "       [1, 1]]))\n",
      "('una porcion     \\n', array([[8, 7],\n",
      "       [6, 5],\n",
      "       [2, 2]]))\n"
     ]
    }
   ],
   "source": [
    "print(a)\n",
    "print\n",
    "print(\"una fila        \" ,a[2])\n",
    "print( \"una fila        \",a[2,:])\n",
    "print( \"una columna     \",a[:,2])\n",
    "print( \"un elemento     \",a[2,2])\n",
    "print( \"varias filas    \\n\",a[2:5])\n",
    "print( \"varias columnas \\n\",a[:,1:3])\n",
    "print( \"una porcion     \\n\",a[2:5,1:3])\n"
   ]
  },
  {
   "cell_type": "markdown",
   "metadata": {},
   "source": [
    "## <span style=\"color:orange\">student</span>: \n",
    "Which means the next notation?"
   ]
  },
  {
   "cell_type": "code",
   "execution_count": 11,
   "metadata": {},
   "outputs": [],
   "source": [
    "b = a[:2, 1:3]\n",
    "# Use slicing to pull out the subarray consisting of the first 2 rows\n",
    "# and columns 1 and 2; b is the following array of shape (2, 2)"
   ]
  },
  {
   "cell_type": "markdown",
   "metadata": {},
   "source": [
    "## `axis`\n",
    "\n",
    "Many functions in `numpy` can be executed from independent columns and rows  by using the argument value of `axis`.\n",
    "\n",
    "Axes are defined for arrays with more than one dimension. A 2-dimensional array has two corresponding axes:\n",
    "- the first running vertically downwards across rows (axis 0)\n",
    "- the second running horizontally across columns (axis 1)"
   ]
  },
  {
   "cell_type": "code",
   "execution_count": 12,
   "metadata": {},
   "outputs": [
    {
     "name": "stdout",
     "output_type": "stream",
     "text": [
      "[[ 9 92  1 76]\n",
      " [52 64 16 50]\n",
      " [ 1 97 64 15]]\n"
     ]
    }
   ],
   "source": [
    "z = np.random.randint(100, size=(3,4)) # Create an array filled with random values\n",
    "print z"
   ]
  },
  {
   "cell_type": "code",
   "execution_count": 13,
   "metadata": {},
   "outputs": [
    {
     "data": {
      "text/plain": [
       "array([178, 182, 177])"
      ]
     },
     "execution_count": 13,
     "metadata": {},
     "output_type": "execute_result"
    }
   ],
   "source": [
    "np.sum(z, axis=1)"
   ]
  },
  {
   "cell_type": "code",
   "execution_count": 14,
   "metadata": {},
   "outputs": [
    {
     "name": "stdout",
     "output_type": "stream",
     "text": [
      "suma total 138\n",
      "suma eje 0 [33 26 25 28 26]\n",
      "suma eje 1 [15 15 35 31 12 18 12]\n",
      "promedio total 3.94285714286\n",
      "promedio eje 0 [ 4.71428571  3.71428571  3.57142857  4.          3.71428571]\n",
      "promedio eje 1 [ 3.   3.   7.   6.2  2.4  3.6  2.4]\n"
     ]
    }
   ],
   "source": [
    "print \"suma total\", np.sum(a)\n",
    "print \"suma eje 0\", np.sum(a, axis=0)\n",
    "print \"suma eje 1\", np.sum(a, axis=1)\n",
    "print \"promedio total\", np.mean(a)\n",
    "print \"promedio eje 0\", np.mean(a, axis=0)\n",
    "print \"promedio eje 1\", np.mean(a, axis=1)"
   ]
  },
  {
   "cell_type": "markdown",
   "metadata": {},
   "source": [
    " ## Easy construction of matrices and vectors \n",
    " \n",
    "... and many functions to create arrays ..."
   ]
  },
  {
   "cell_type": "code",
   "execution_count": 15,
   "metadata": {},
   "outputs": [
    {
     "name": "stdout",
     "output_type": "stream",
     "text": [
      "[[ 0.  0.]\n",
      " [ 0.  0.]]\n",
      "[[ 1.  1.]]\n",
      "[[7 7]\n",
      " [7 7]]\n",
      "[[ 1.  0.]\n",
      " [ 0.  1.]]\n",
      "matrix identidad\n",
      "[[ 1.  0.  0.]\n",
      " [ 0.  1.  0.]\n",
      " [ 0.  0.  1.]]\n",
      "matrix identidad\n",
      "[[ 1.  0.  0.]\n",
      " [ 0.  1.  0.]\n",
      " [ 0.  0.  1.]]\n",
      "vector de ceros [ 0.  0.  0.  0.]\n",
      "matriz de ceros\n",
      "[[ 0.  0.]\n",
      " [ 0.  0.]\n",
      " [ 0.  0.]]\n",
      "matriz de unos\n",
      "[[ 1.  1.  1.]\n",
      " [ 1.  1.  1.]]\n",
      "vector rango [0 1 2 3 4 5 6 7 8 9]\n",
      "vector rango [5 6 7 8 9]\n",
      "vector espacio lineal [-10.   -7.5  -5.   -2.5   0.    2.5   5. ]\n",
      "matriz aleatoria según distribución uniforme [0,1]\n",
      "[[ 0.29070672  0.01493849  0.65666297  0.73862021  0.43928718]\n",
      " [ 0.16574141  0.2594447   0.40218145  0.82304333  0.19971278]\n",
      " [ 0.76392817  0.21930293  0.92812945  0.11148905  0.0311993 ]]\n",
      "vector aleatorio de enteros entre 0 y 5 [1 1 0 3 1 4 2 3 4 1]\n"
     ]
    }
   ],
   "source": [
    "b = np.zeros((2,2))   # Create an array of all zeros\n",
    "print(b)              # Prints \"[[ 0.  0.]\n",
    "                      #          [ 0.  0.]]\"\n",
    "\n",
    "c = np.ones((1,2))    # Create an array of all ones\n",
    "print(c)              # Prints \"[[ 1.  1.]]\"\n",
    "\n",
    "d = np.full((2,2), 7)  # Create a constant array\n",
    "print(d)               # Prints \"[[ 7.  7.]\n",
    "                       #          [ 7.  7.]]\"\n",
    "\n",
    "f = np.eye(2)         # Create a 2x2 identity matrix\n",
    "print(f)              # Prints \"[[ 1.  0.]\n",
    "                      #          [ 0.  1.]]\"\n",
    "    \n",
    "print \"matrix identidad\\n\", np.eye(3)\n",
    "print \"matrix identidad\\n\", np.identity(3)\n",
    "print \"vector de ceros\", np.zeros(4)\n",
    "print \"matriz de ceros\\n\", np.zeros((3,2))\n",
    "print \"matriz de unos\\n\", np.ones((2,3))\n",
    "print \"vector rango\", np.arange(10)\n",
    "print \"vector rango\", np.arange(5,10)\n",
    "print \"vector espacio lineal\", np.linspace(-10,5,7) # devuelve 7 números entre (-10 y 5)\n",
    "print \"matriz aleatoria según distribución uniforme [0,1]\\n\", np.random.random(size=(3,5))\n",
    "print \"vector aleatorio de enteros entre 0 y 5\", np.random.randint(5, size=10)    "
   ]
  },
  {
   "cell_type": "markdown",
   "metadata": {},
   "source": [
    "Python matrices also can have many dimensions and we can acess to sub-matrices in several directions and dimensions. "
   ]
  },
  {
   "cell_type": "code",
   "execution_count": 16,
   "metadata": {
    "scrolled": false
   },
   "outputs": [
    {
     "name": "stdout",
     "output_type": "stream",
     "text": [
      "-------------------------------\n",
      "\n",
      "Matrix 3D completa\n",
      "[[[5 1 3]\n",
      "  [2 2 8]\n",
      "  [5 5 5]]\n",
      "\n",
      " [[7 6 7]\n",
      "  [4 7 6]\n",
      "  [0 7 5]]\n",
      "\n",
      " [[7 6 7]\n",
      "  [0 5 2]\n",
      "  [2 7 3]]]\n",
      "\n",
      " m[0,:,:] ...\n",
      "\n",
      "\n",
      "---\n",
      "[[5 1 3]\n",
      " [2 2 8]\n",
      " [5 5 5]]\n",
      "-------------------------------\n",
      "\n",
      " \n",
      "\n",
      " **** m[1,:,:] **** ...\n",
      "\n",
      "\n",
      "---\n",
      "[[7 6 7]\n",
      " [4 7 6]\n",
      " [0 7 5]]\n",
      "-------------------------------\n",
      "\n",
      "*** m[:,0,:] **** ...\n",
      "---\n",
      "[[5 1 3]\n",
      " [7 6 7]\n",
      " [7 6 7]]\n",
      "-------------------------------\n",
      "\n",
      "*** m[:,:,0] **** ...\n",
      "---\n",
      "[[5 2 5]\n",
      " [7 4 0]\n",
      " [7 0 2]]\n",
      "-------------------------------\n",
      "\n",
      "*** m[:,0,0] **** ...\n",
      "---\n",
      "[5 7 7]\n",
      "-------------------------------\n",
      "\n",
      "uno ...\n",
      "---\n",
      "[[ 9 12 15]\n",
      " [20 17 12]\n",
      " [20  7 12]]\n",
      "uno ...\n"
     ]
    }
   ],
   "source": [
    "m = np.random.randint(10, size=(3,3,3))\n",
    "print \"-------------------------------\\n\"\n",
    "print \"Matrix 3D completa\\n\", m\n",
    "print \"\\n m[0,:,:] ...\\n\\n\"\n",
    "print \"---\\n\", m[0,:,:]\n",
    "print \"-------------------------------\\n\"\n",
    "\n",
    "print \" \\n\\n **** m[1,:,:] **** ...\\n\\n\"\n",
    "print \"---\\n\", m[1,:,:]\n",
    "print \"-------------------------------\\n\"\n",
    "\n",
    "\n",
    "print \"*** m[:,0,:] **** ...\"\n",
    "print \"---\\n\", m[:,0,:]\n",
    "print \"-------------------------------\\n\"\n",
    "\n",
    "print \"*** m[:,:,0] **** ...\"\n",
    "print \"---\\n\", m[:,:,0]\n",
    "print \"-------------------------------\\n\"\n",
    "\n",
    "\n",
    "print \"*** m[:,0,0] **** ...\"\n",
    "print \"---\\n\", m[:,0,0]\n",
    "print \"-------------------------------\\n\"\n",
    "\n",
    "print \"uno ...\"\n",
    "print \"---\\n\", np.sum(m, axis=2)\n",
    "print \"uno ...\"\n"
   ]
  },
  {
   "cell_type": "markdown",
   "metadata": {},
   "source": [
    "## Math and vectorized operations with   `numpy`\n",
    "Basic mathematical functions operate elementwise on arrays"
   ]
  },
  {
   "cell_type": "code",
   "execution_count": 17,
   "metadata": {},
   "outputs": [
    {
     "name": "stdout",
     "output_type": "stream",
     "text": [
      "[10 12 13 15 20]\n",
      "[11 13 14 16 21]\n",
      "[20 24 26 30 40]\n",
      "1038\n",
      "[[  6.   8.]\n",
      " [ 10.  12.]]\n",
      "[[  6.   8.]\n",
      " [ 10.  12.]]\n"
     ]
    }
   ],
   "source": [
    "v = np.array([10,12,13,15,20])\n",
    "print v\n",
    "print v+1\n",
    "print v*2\n",
    "print v.dot(v)\n",
    "\n",
    "x = np.array([[1,2],[3,4]], dtype=np.float64)\n",
    "y = np.array([[5,6],[7,8]], dtype=np.float64)\n",
    "\n",
    "#overload and as functions\n",
    "print(x + y)\n",
    "print(np.add(x, y))"
   ]
  },
  {
   "cell_type": "markdown",
   "metadata": {},
   "source": [
    "## <span style=\"color:orange\">student</span>: \n",
    "How multiply, divide and compute a square root?"
   ]
  },
  {
   "cell_type": "code",
   "execution_count": 18,
   "metadata": {},
   "outputs": [
    {
     "name": "stdout",
     "output_type": "stream",
     "text": [
      "[[ 0.2         0.33333333]\n",
      " [ 0.42857143  0.5       ]]\n",
      "[[  5.  12.]\n",
      " [ 21.  32.]]\n",
      "[[ 1.          1.41421356]\n",
      " [ 1.73205081  2.        ]]\n"
     ]
    }
   ],
   "source": [
    "print(np.divide(x, y))\n",
    "print(np.multiply(x, y))\n",
    "print(np.sqrt(x))"
   ]
  },
  {
   "cell_type": "markdown",
   "metadata": {},
   "source": [
    "- `*` is elementwise multiplication\n",
    "- `dot` function to compute inner products of vectors   "
   ]
  },
  {
   "cell_type": "code",
   "execution_count": 20,
   "metadata": {
    "scrolled": true
   },
   "outputs": [
    {
     "name": "stdout",
     "output_type": "stream",
     "text": [
      "[[1 2 3]\n",
      " [4 5 6]]\n",
      "[[6 5 4]\n",
      " [3 2 1]]\n",
      "--\n",
      "matrix multiplication\n",
      "[[17 22 27]\n",
      " [22 29 36]\n",
      " [27 36 45]]\n",
      "[[17 22 27]\n",
      " [22 29 36]\n",
      " [27 36 45]]\n",
      "pointwise\n",
      "[[ 6 10 12]\n",
      " [12 10  6]]\n"
     ]
    }
   ],
   "source": [
    "a = np.array([[1,2,3],[4,5,6]])\n",
    "b = np.array([[6,5,4],[3,2,1]])\n",
    "c = np.array([[1,2],[4,5]])\n",
    "print a\n",
    "print b\n",
    "print \"--\"\n",
    "print(\"matrix multiplication\")\n",
    "print a.T.dot(a)\n",
    "print(np.dot(a.T, a))\n",
    "print(\"pointwise\")\n",
    "print a*b"
   ]
  },
  {
   "cell_type": "code",
   "execution_count": 12,
   "metadata": {},
   "outputs": [
    {
     "name": "stdout",
     "output_type": "stream",
     "text": [
      "[[1 2 3]\n",
      " [4 5 6]]\n",
      "[[6 5 4]\n",
      " [3 2 1]]\n",
      "--\n",
      "a+b\n",
      "[[7 7 7]\n",
      " [7 7 7]]\n",
      "a**2\n",
      "[[ 1  4  9]\n",
      " [16 25 36]]\n",
      "a*b\n",
      "[[ 6 10 12]\n",
      " [12 10  6]]\n",
      "a x b'\n",
      "[[28 10]\n",
      " [73 28]]\n",
      "a' x b\n",
      "[[18 13  8]\n",
      " [27 20 13]\n",
      " [36 27 18]]\n"
     ]
    }
   ],
   "source": [
    "a = np.array([[1,2,3],[4,5,6]])\n",
    "b = np.array([[6,5,4],[3,2,1]])\n",
    "\n",
    "print a\n",
    "print b\n",
    "print \"--\"\n",
    "\n",
    "print \"a+b\\n\",a+b\n",
    "print \"a**2\\n\", a**2\n",
    "print \"a*b\\n\",a*b\n",
    "print \"a x b'\\n\",a.dot(b.T)\n",
    "print \"a' x b\\n\",a.T.dot(b)\n"
   ]
  },
  {
   "cell_type": "code",
   "execution_count": 13,
   "metadata": {},
   "outputs": [
    {
     "name": "stdout",
     "output_type": "stream",
     "text": [
      "[ 1  8  4 10 -4  5]\n",
      "[False  True False  True False  True]\n",
      "[False  True False  True False  True]\n"
     ]
    },
    {
     "data": {
      "text/plain": [
       "array([ 8, 10,  5])"
      ]
     },
     "execution_count": 13,
     "metadata": {},
     "output_type": "execute_result"
    }
   ],
   "source": [
    "a = np.array([1,8,4,10,-4,5])\n",
    "print a\n",
    "print a>4\n",
    "i = np.array([False, True, False, True, False, True])\n",
    "print i\n",
    "\n",
    "a[a>4]\n"
   ]
  },
  {
   "cell_type": "markdown",
   "metadata": {},
   "source": [
    "The numpy functions also works with _boolean_ expressions. For instance to select some specific objects."
   ]
  },
  {
   "cell_type": "code",
   "execution_count": 14,
   "metadata": {},
   "outputs": [
    {
     "name": "stdout",
     "output_type": "stream",
     "text": [
      "posiciones en a >4: [False  True False  True False  True]\n",
      "elementos de a >4: [ 8 10  5]\n"
     ]
    }
   ],
   "source": [
    "a = np.array([1,8,4,10,-4,5])\n",
    "print \"posiciones en a >4:\", a>4\n",
    "print \"elementos de a >4:\",a[a>4]\n"
   ]
  },
  {
   "cell_type": "markdown",
   "metadata": {},
   "source": [
    "---\n",
    "<p style=\"font-size:20px;font-weight:bold;\"><span style=\"color:#FFF; background-color:#080; font-weight:bold; padding:4px;\">Funtions and structures in Python</span></p>"
   ]
  },
  {
   "cell_type": "markdown",
   "metadata": {},
   "source": [
    "Python programs get structured through **indentation**, i.e. code blocks are defined by their indentation. The type of function arguments is not declared. \n",
    "\n",
    "### <span style=\"color:red\">The implementation should be prepared to works with the data types required !</span>"
   ]
  },
  {
   "cell_type": "code",
   "execution_count": 23,
   "metadata": {
    "scrolled": true
   },
   "outputs": [
    {
     "name": "stdout",
     "output_type": "stream",
     "text": [
      "110.16\n",
      "[ 110.16  112.16]\n",
      "[[14 22]\n",
      " [ 1  1]]\n",
      "10\n"
     ]
    }
   ],
   "source": [
    "def funcion_1(a,b):\n",
    "    r = a**2\n",
    "    return r+b\n",
    "    \n",
    "def greatest(a,b):\n",
    "    if a>b:\n",
    "        return a\n",
    "    else:\n",
    "        return b\n",
    "\n",
    "m1 = np.array([[3,4],[1,1]])\n",
    "m2 = np.array([[5,6],[0,0]])\n",
    "print funcion_1 (10.4,2)\n",
    "print funcion_1 (10.4, np.array([2,4]))\n",
    "print funcion_1 (m1,m2)\n",
    "print greatest(10,2)"
   ]
  },
  {
   "cell_type": "markdown",
   "metadata": {},
   "source": [
    "We can define values for the arguments in the functions and works as overload methods. We can call the arguments by the name. The function can return several values "
   ]
  },
  {
   "cell_type": "code",
   "execution_count": 24,
   "metadata": {},
   "outputs": [
    {
     "name": "stdout",
     "output_type": "stream",
     "text": [
      "9\n",
      "81\n"
     ]
    }
   ],
   "source": [
    "def f_power(x, p=2):\n",
    "    return x**p\n",
    "\n",
    "print f_power(x=3)\n",
    "print f_power(p=4, x=3)"
   ]
  },
  {
   "cell_type": "code",
   "execution_count": 25,
   "metadata": {},
   "outputs": [
    {
     "name": "stdout",
     "output_type": "stream",
     "text": [
      "12\n",
      "81\n",
      "12\n",
      "10\n",
      "[10  4 -3]\n"
     ]
    }
   ],
   "source": [
    "def f_power(x, p=2):\n",
    "    return x**p, x*p\n",
    "\n",
    "r = f_power(p=4, x=3)\n",
    "print r[1]\n",
    "\n",
    "r1, r2 = f_power(p=4, x=3)\n",
    "print r1\n",
    "print r2\n",
    "\n",
    "\n",
    "a,b = 10, np.array([10,4,-3])\n",
    "print a\n",
    "print b"
   ]
  },
  {
   "cell_type": "code",
   "execution_count": 26,
   "metadata": {},
   "outputs": [
    {
     "data": {
      "text/plain": [
       "81"
      ]
     },
     "execution_count": 26,
     "metadata": {},
     "output_type": "execute_result"
    }
   ],
   "source": [
    "3**4"
   ]
  },
  {
   "cell_type": "code",
   "execution_count": 27,
   "metadata": {},
   "outputs": [
    {
     "name": "stdout",
     "output_type": "stream",
     "text": [
      "16\n",
      "64\n",
      "(64, 64)\n",
      "power1 64 power2 256\n"
     ]
    }
   ],
   "source": [
    "def f_power(x, p=2):\n",
    "    return x**p\n",
    "\n",
    "def f_powers(x, p1=2, p2=3):\n",
    "    return x**p1, x**p2\n",
    "\n",
    "print f_power(4)\n",
    "print f_power(4,3)\n",
    "print f_powers(4, p1=3)\n",
    "xp1, xp2 = f_powers(4, p2=4, p1=3)\n",
    "print \"power1\",xp1, \"power2\", xp2"
   ]
  },
  {
   "cell_type": "code",
   "execution_count": 20,
   "metadata": {},
   "outputs": [
    {
     "name": "stdout",
     "output_type": "stream",
     "text": [
      "[10  4 -3]\n",
      "3\n",
      "indice 0 tiene el valor 10\n",
      "indice 1 tiene el valor 4\n",
      "indice 2 tiene el valor -3\n"
     ]
    }
   ],
   "source": [
    "#range(len(b))\n",
    "\n",
    "print b\n",
    "print len(b)\n",
    "\n",
    "for i in  range(len(b)):\n",
    "    print \"indice\", i, \"tiene el valor\", b[i]"
   ]
  },
  {
   "cell_type": "markdown",
   "metadata": {},
   "source": [
    "## Dictionaries\n",
    "A dictionary stores (key, value) pairs. The dictionaries are special list with associations between objects like _hashes_ in Java"
   ]
  },
  {
   "cell_type": "code",
   "execution_count": 21,
   "metadata": {},
   "outputs": [
    {
     "name": "stdout",
     "output_type": "stream",
     "text": [
      "[0, 1, 2, 3, 4, 5, 6, 7, 8, 9]\n",
      "[9 4 9 8 2 8 9 6 8 7]\n"
     ]
    }
   ],
   "source": [
    "d = {\"i1\": 16, \"nombre\": \"haskel\", \"edad\": 32}\n",
    "\n",
    "r10 = range(10)\n",
    "rr  = np.random.randint(10, size=10)\n",
    "print r10\n",
    "print rr"
   ]
  },
  {
   "cell_type": "code",
   "execution_count": 22,
   "metadata": {},
   "outputs": [
    {
     "name": "stdout",
     "output_type": "stream",
     "text": [
      "la clave i1 tiene el valor 16\n",
      "la clave nombre tiene el valor haskel\n",
      "la clave edad tiene el valor 32\n"
     ]
    }
   ],
   "source": [
    "for i in d.keys():\n",
    "    print \"la clave\", i, \"tiene el valor\", d[i]"
   ]
  },
  {
   "cell_type": "code",
   "execution_count": 23,
   "metadata": {},
   "outputs": [
    {
     "name": "stdout",
     "output_type": "stream",
     "text": [
      "el indice 0 tiene el valor 9\n",
      "el indice 1 tiene el valor 4\n",
      "el indice 2 tiene el valor 9\n",
      "el indice 3 tiene el valor 8\n",
      "el indice 4 tiene el valor 2\n",
      "el indice 5 tiene el valor 8\n",
      "el indice 6 tiene el valor 9\n",
      "el indice 7 tiene el valor 6\n",
      "el indice 8 tiene el valor 8\n",
      "el indice 9 tiene el valor 7\n"
     ]
    }
   ],
   "source": [
    "for i in range(len(rr)):\n",
    "    print \"el indice\", i, \"tiene el valor\", rr[i]"
   ]
  },
  {
   "cell_type": "code",
   "execution_count": 24,
   "metadata": {},
   "outputs": [
    {
     "name": "stdout",
     "output_type": "stream",
     "text": [
      "{'i1': 16, 'nombre': 'haskel', 'edad': 32}\n",
      "['i1', 'nombre', 'edad']\n",
      "haskel 32\n",
      "16\n",
      "haskel\n",
      "32\n"
     ]
    }
   ],
   "source": [
    "d = {\"i1\": 16, \"nombre\": \"haskel\", \"edad\": 32}\n",
    "print d\n",
    "print d.keys()\n",
    "print d[\"nombre\"], d[\"edad\"]\n",
    "for k in d.keys():\n",
    "    print d[k]"
   ]
  },
  {
   "cell_type": "markdown",
   "metadata": {},
   "source": [
    "## More compact expressions"
   ]
  },
  {
   "cell_type": "code",
   "execution_count": 32,
   "metadata": {},
   "outputs": [
    {
     "name": "stdout",
     "output_type": "stream",
     "text": [
      "mayor que 10\n"
     ]
    }
   ],
   "source": [
    "a=15\n",
    "if a > 10:\n",
    "    s = \"mayor que 10\"\n",
    "else:\n",
    "    s = \"menor que 10\"\n",
    "\n",
    "print s"
   ]
  },
  {
   "cell_type": "code",
   "execution_count": 33,
   "metadata": {},
   "outputs": [
    {
     "name": "stdout",
     "output_type": "stream",
     "text": [
      "menor que 10\n"
     ]
    }
   ],
   "source": [
    "a = 5\n",
    "s = \"mayor que 10\" if a > 10 else \"menor que 10\"\n",
    "print s"
   ]
  },
  {
   "cell_type": "code",
   "execution_count": 34,
   "metadata": {},
   "outputs": [
    {
     "name": "stdout",
     "output_type": "stream",
     "text": [
      "['10A', '-4B', '20A', '5A']\n"
     ]
    }
   ],
   "source": [
    "a = [10, -4, 20, 5]\n",
    "\n",
    "o = [\"10A\", \"-4B\", \"20A\", \"5A\"]\n",
    "\n",
    "o = []\n",
    "for i in a:\n",
    "    if i<0:\n",
    "        o.append(str(i)+\"B\")\n",
    "    else:\n",
    "        o.append(str(i)+\"A\")\n",
    "\n",
    "print o\n",
    "\n"
   ]
  },
  {
   "cell_type": "code",
   "execution_count": 35,
   "metadata": {},
   "outputs": [
    {
     "name": "stdout",
     "output_type": "stream",
     "text": [
      "['10A', '-4B', '20A', '5A']\n"
     ]
    }
   ],
   "source": [
    "def convert(x):\n",
    "    return str(x)+\"B\" if x<0 else str(x)+\"A\" \n",
    "\n",
    "o = [convert(i) for i in a]\n",
    "print o"
   ]
  },
  {
   "cell_type": "code",
   "execution_count": 36,
   "metadata": {},
   "outputs": [
    {
     "name": "stdout",
     "output_type": "stream",
     "text": [
      "['el numero 0', 'el numero 1', 'el numero 2', 'el numero 3', 'el numero 4', 'el numero 5', 'el numero 6', 'el numero 7', 'el numero 8', 'el numero 9']\n"
     ]
    }
   ],
   "source": [
    "r = []\n",
    "for i in range(10):\n",
    "    r.append(\"el numero \"+str(i))\n",
    "print r"
   ]
  },
  {
   "cell_type": "code",
   "execution_count": 37,
   "metadata": {},
   "outputs": [
    {
     "name": "stdout",
     "output_type": "stream",
     "text": [
      "['el numero 0', 'el numero 1', 'el numero 2', 'el numero 3', 'el numero 4', 'el numero 5', 'el numero 6', 'el numero 7', 'el numero 8', 'el numero 9']\n"
     ]
    }
   ],
   "source": [
    "r = [\"el numero \"+str(i) for i in range(10)]\n",
    "print r"
   ]
  },
  {
   "cell_type": "markdown",
   "metadata": {},
   "source": [
    "## <span style=\"color:orange\">About markdown please see the notebook complement 01</span>: "
   ]
  },
  {
   "cell_type": "markdown",
   "metadata": {},
   "source": [
    "## Plotting with Matplotlib\n",
    "The most important function in matplotlib is plot, which allows you to plot 2D data"
   ]
  },
  {
   "cell_type": "code",
   "execution_count": 40,
   "metadata": {},
   "outputs": [
    {
     "data": {
      "image/png": "[encoded data removed]",
      "text/plain": [
       "<matplotlib.figure.Figure at 0x7fe1741dd810>"
      ]
     },
     "metadata": {},
     "output_type": "display_data"
    }
   ],
   "source": [
    "import numpy as np\n",
    "import matplotlib.pyplot as plt\n",
    "\n",
    "# Compute the x and y coordinates for points on a sine curve\n",
    "x = np.arange(0, 3 * np.pi, 0.1)\n",
    "y_sin = np.sin(x)\n",
    "y_cos = np.cos(x)\n",
    "\n",
    "# Plot the points using matplotlib\n",
    "plt.plot(x, y_sin)\n",
    "plt.plot(x, y_cos)\n",
    "plt.xlabel('x axis label')\n",
    "plt.ylabel('y axis label')\n",
    "plt.title('Sine and Cosine')\n",
    "plt.legend(['Sine', 'Cosine'])\n",
    "plt.show()"
   ]
  },
  {
   "cell_type": "markdown",
   "metadata": {},
   "source": [
    "With **plt.plot** drawn conected points and with  **plt.scatter\"** independent points"
   ]
  },
  {
   "cell_type": "code",
   "execution_count": 10,
   "metadata": {},
   "outputs": [
    {
     "name": "stdout",
     "output_type": "stream",
     "text": [
      "[-4.         -3.57894737 -3.15789474 -2.73684211 -2.31578947 -1.89473684\n",
      " -1.47368421 -1.05263158 -0.63157895 -0.21052632  0.21052632  0.63157895\n",
      "  1.05263158  1.47368421  1.89473684  2.31578947  2.73684211  3.15789474\n",
      "  3.57894737  4.        ]\n",
      "[ 16.          12.80886427   9.97229917   7.49030471   5.36288089\n",
      "   3.5900277    2.17174515   1.10803324   0.39889197   0.04432133\n",
      "   0.04432133   0.39889197   1.10803324   2.17174515   3.5900277\n",
      "   5.36288089   7.49030471   9.97229917  12.80886427  16.        ]\n"
     ]
    },
    {
     "data": {
      "text/plain": [
       "<matplotlib.legend.Legend at 0x7f3d3b189690>"
      ]
     },
     "execution_count": 10,
     "metadata": {},
     "output_type": "execute_result"
    },
    {
     "data": {
      "image/png": "[encoded data removed]",
      "text/plain": [
       "<matplotlib.figure.Figure at 0x7f3d3b2b2bd0>"
      ]
     },
     "metadata": {},
     "output_type": "display_data"
    }
   ],
   "source": [
    "import matplotlib.pyplot as plt\n",
    "import numpy as np\n",
    "%matplotlib inline\n",
    "\n",
    "x = np.linspace(-4,4,20)\n",
    "print x\n",
    "print x**2\n",
    "plt.plot(x, x**2, label=\"x^2 plot\")\n",
    "plt.scatter(x, x**2, label=\"muestras\")\n",
    "plt.plot(x, x**3, label=\"$x^3$\", color=\"red\")\n",
    "plt.xlim([-2,2])\n",
    "plt.ylim([-20, 20])\n",
    "plt.legend()"
   ]
  },
  {
   "cell_type": "code",
   "execution_count": 38,
   "metadata": {
    "scrolled": true
   },
   "outputs": [
    {
     "name": "stdout",
     "output_type": "stream",
     "text": [
      "(100,)\n"
     ]
    },
    {
     "data": {
      "text/plain": [
       "<matplotlib.collections.PathCollection at 0x7fe14e3c84d0>"
      ]
     },
     "execution_count": 38,
     "metadata": {},
     "output_type": "execute_result"
    },
    {
     "data": {
      "image/png": "[encoded data removed]",
      "text/plain": [
       "<matplotlib.figure.Figure at 0x7fe1506ade50>"
      ]
     },
     "metadata": {},
     "output_type": "display_data"
    }
   ],
   "source": [
    "import matplotlib.pyplot as plt\n",
    "import numpy as np\n",
    "%matplotlib inline\n",
    "\n",
    "\n",
    "plt.figure(figsize=(5,3))\n",
    "x = np.linspace(-4,4,10)\n",
    "plt.plot(x, x**2, color=\"black\", linewidth=1)\n",
    "plt.scatter(x, x**2, c=\"green\", s=50)\n",
    "x_r = np.linspace(-4,4,100)\n",
    "print x_r.shape\n",
    "x_ruido = x_r**2 + (np.random.random(x_r.shape)-0.5)*10\n",
    "plt.scatter(x_r,x_ruido, c=\"red\", alpha=0.4)"
   ]
  },
  {
   "cell_type": "markdown",
   "metadata": {},
   "source": [
    "### Subplots\n",
    "You can plot several images in the same figure using the subplot function"
   ]
  },
  {
   "cell_type": "code",
   "execution_count": 43,
   "metadata": {},
   "outputs": [
    {
     "data": {
      "image/png": "[encoded data removed]",
      "text/plain": [
       "<matplotlib.figure.Figure at 0x7fe14e349050>"
      ]
     },
     "metadata": {},
     "output_type": "display_data"
    }
   ],
   "source": [
    "# Set up a subplot grid that has height 2 and width 1,\n",
    "# and set the first such subplot as active.\n",
    "plt.subplot(2, 1, 1)\n",
    "\n",
    "# Make the first plot\n",
    "plt.plot(x, y_sin)\n",
    "plt.title('Sine')\n",
    "\n",
    "# Set the second subplot as active, and make the second plot.\n",
    "plt.subplot(2, 1, 2)\n",
    "plt.plot(x, y_cos)\n",
    "plt.title('Cosine')\n",
    "\n",
    "# Show the figure.\n",
    "plt.show()"
   ]
  },
  {
   "cell_type": "markdown",
   "metadata": {},
   "source": [
    "## Referencias\n",
    "\n",
    "[1] official numpy tutorial: https://docs.scipy.org/doc/numpy/user/quickstart.html\n",
    "\n",
    "[2] Datacamp tutorial of numpy: https://www.datacamp.com/community/tutorials/python-numpy-tutorial\n",
    "\n",
    "[3] An other tutorial: https://www.twilio.com/blog/2017/10/basic-statistics-python-numpy-jupyter-notebook.html\n",
    "\n",
    "[4] About dictionaries: https://docs.python.org/3.5/library/stdtypes.html#dict\n",
    "\n",
    "[5] mathematical functions in numpy: https://docs.scipy.org/doc/numpy/reference/routines.math.html\n",
    "\n",
    "[6] More deeply in numpy: https://docs.scipy.org/doc/numpy/reference/\n",
    "\n",
    "[7] All about matplotlib: http://matplotlib.org/"
   ]
  },
  {
   "cell_type": "markdown",
   "metadata": {},
   "source": [
    "---\n",
    "# <center> Muchas Gracias! </center>"
   ]
  }
 ],
 "metadata": {
  "kernelspec": {
   "display_name": "Python 2",
   "language": "python",
   "name": "python2"
  },
  "language_info": {
   "codemirror_mode": {
    "name": "ipython",
    "version": 2
   },
   "file_extension": ".py",
   "mimetype": "text/x-python",
   "name": "python",
   "nbconvert_exporter": "python",
   "pygments_lexer": "ipython2",
   "version": "2.7.14"
  },
  "toc": {
   "toc_cell": false,
   "toc_number_sections": true,
   "toc_threshold": 6,
   "toc_window_display": false
  },
  "widgets": {
   "state": {},
   "version": "1.1.2"
  }
 },
 "nbformat": 4,
 "nbformat_minor": 1
}
