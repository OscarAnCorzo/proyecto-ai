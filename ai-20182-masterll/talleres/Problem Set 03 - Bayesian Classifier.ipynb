{
 "cells": [
  {
   "cell_type": "markdown",
   "metadata": {},
   "source": [
    "## EJECUTA ESTA CELDA PARA AUTENTICARTE CON TU CUENTA DE GMAIL"
   ]
  },
  {
   "cell_type": "code",
   "execution_count": 56,
   "metadata": {},
   "outputs": [
    {
     "name": "stdout",
     "output_type": "stream",
     "text": [
      "CLICK ON THIS LINK TO AUTHENTICATE WITH YOUR GMAIL ACCOUNT\n",
      "https://accounts.google.com/o/oauth2/auth?scope=profile+email&redirect_uri=http%3A%2F%2Flocalhost%3A8080&response_type=code&client_id=486275613361-7nk9ktukfcfjevfoe3tamjp0pmbjmprs.apps.googleusercontent.com&access_type=offline\n",
      "waiting for authentication ...\n",
      "authentication succeeded\n"
     ]
    },
    {
     "data": {
      "text/html": [
       "<table><tr><td><img src='https://lh5.googleusercontent.com/-X5z7v77ZDQg/AAAAAAAAAAI/AAAAAAAAAAA/ACevoQPRds4ZPlasWaE-qikNIJWVWcT_DA/mo/photo.jpg' width=60 height=60/></td><td>oscarcorzog@gmail.com<br/>oscar corzo<br/>google id: 110152374604598827084<br/>authorization code: 4/8wA-TpO9lICaLklMHApCtpnTJoMm6lJa_0xIB5eeJEZrK4SVztnLAScUiMSJPcYQSBJOSAp6GrBliY8jUZc7bag</td></tr></table>"
      ],
      "text/plain": [
       "<IPython.core.display.HTML object>"
      ]
     },
     "execution_count": 56,
     "metadata": {},
     "output_type": "execute_result"
    }
   ],
   "source": [
    "from mooclib import *\n",
    "import inspect, urllib\n",
    "html, auth_code, userinfo = google_authenticate(PORT_NUMBER=8080)\n",
    "html"
   ]
  },
  {
   "cell_type": "markdown",
   "metadata": {},
   "source": [
    "## Ejercicio 1: Estimadores\n",
    "\n",
    "completa la función siguiente para que, dado `X` $\\in \\mathbb{R}^{n \\times m}$, un dataframe de Pandas o un array `numpy` con $m$ columnas y $n$ elementos, devuelva dos vectores $\\in \\mathbb{R}^m$\n",
    "\n",
    "- uno con los promedios de cada columna de `X`\n",
    "- uno con las desviaciones estandar de cada columna de `X`\n",
    "\n",
    "#### Ejemplo de ejecución\n",
    "\n",
    "    > d = pd.read_csv(\"data/data_banknote_authentication.txt.gz\")\n",
    "    > print means_stds(d)\n",
    "    > print means_stds(d.values)\n",
    "    \n",
    "    (array([ 0.43373526,  1.92235312,  1.39762712, -1.19165652,  0.44460641]), array([ 2.84172641,  5.86690749,  4.30845909,  2.10024732,  0.49692208]))\n",
    "    (array([ 0.43373526,  1.92235312,  1.39762712, -1.19165652,  0.44460641]), array([ 2.84172641,  5.86690749,  4.30845909,  2.10024732,  0.49692208]))"
   ]
  },
  {
   "cell_type": "code",
   "execution_count": 53,
   "metadata": {},
   "outputs": [
    {
     "data": {
      "text/plain": [
       "numpy.ndarray"
      ]
     },
     "execution_count": 53,
     "metadata": {},
     "output_type": "execute_result"
    }
   ],
   "source": [
    "import pandas as pd\n",
    "import numpy as np\n",
    "\n",
    "dp = pd.read_csv(\"../data/data_banknote_authentication.txt.gz\")\n",
    "dn = np.array(dp)\n",
    "type(dp)\n",
    "type(dn)"
   ]
  },
  {
   "cell_type": "code",
   "execution_count": 54,
   "metadata": {},
   "outputs": [
    {
     "data": {
      "text/plain": [
       "pandas.core.frame.DataFrame"
      ]
     },
     "execution_count": 54,
     "metadata": {},
     "output_type": "execute_result"
    }
   ],
   "source": [
    "type(dp)"
   ]
  },
  {
   "cell_type": "code",
   "execution_count": 55,
   "metadata": {},
   "outputs": [
    {
     "data": {
      "text/plain": [
       "varwt     0.433735\n",
       "skewt     1.922353\n",
       "curwt     1.397627\n",
       "entrwt   -1.191657\n",
       "class     0.444606\n",
       "dtype: float64"
      ]
     },
     "execution_count": 55,
     "metadata": {},
     "output_type": "execute_result"
    }
   ],
   "source": [
    "np.mean(dp)"
   ]
  },
  {
   "cell_type": "code",
   "execution_count": 59,
   "metadata": {},
   "outputs": [
    {
     "name": "stdout",
     "output_type": "stream",
     "text": [
      "diferentes\n"
     ]
    }
   ],
   "source": [
    "a = pd.DataFrame()\n",
    "if(np == type(dn)):\n",
    "    print('iguales')\n",
    "    \n",
    "else: \n",
    "    print('diferentes')"
   ]
  },
  {
   "cell_type": "code",
   "execution_count": 60,
   "metadata": {},
   "outputs": [],
   "source": [
    "import pandas as pd\n",
    "import numpy as np\n",
    "\n",
    "def means_stds(x):\n",
    "    import pandas as pd\n",
    "    import numpy as np\n",
    "    a = pd.DataFrame()\n",
    "    if(type(x)!=type(a)):\n",
    "        x = pd.DataFrame(x)\n",
    "    \n",
    "    m = np.mean(x).values\n",
    "    s = np.std(x).values\n",
    "    \n",
    "    return m,s\n",
    "\n",
    "import urllib, inspect\n",
    "src1 = urllib.quote_plus(inspect.getsource(means_stds))"
   ]
  },
  {
   "cell_type": "code",
   "execution_count": 61,
   "metadata": {},
   "outputs": [
    {
     "name": "stdout",
     "output_type": "stream",
     "text": [
      "(array([ 0.43373526,  1.92235312,  1.39762712, -1.19165652,  0.44460641]), array([ 2.84172641,  5.86690749,  4.30845909,  2.10024732,  0.49692208]))\n",
      "(array([ 0.43373526,  1.92235312,  1.39762712, -1.19165652,  0.44460641]), array([ 2.84172641,  5.86690749,  4.30845909,  2.10024732,  0.49692208]))\n"
     ]
    }
   ],
   "source": [
    "# VERIFICA TU CODIGO\n",
    "d = pd.read_csv(\"../data/data_banknote_authentication.txt.gz\")\n",
    "print means_stds(d)\n",
    "print means_stds(d.values)"
   ]
  },
  {
   "cell_type": "markdown",
   "metadata": {},
   "source": [
    "#### evaluate your answer before submitting:"
   ]
  },
  {
   "cell_type": "code",
   "execution_count": 62,
   "metadata": {},
   "outputs": [
    {
     "name": "stdout",
     "output_type": "stream",
     "text": [
      "evaluation result CORRECT\r\n"
     ]
    }
   ],
   "source": [
    "!./run CHECK_SOLUTION PS3_1 $src1"
   ]
  },
  {
   "cell_type": "markdown",
   "metadata": {},
   "source": [
    "#### submit your answer (you must be connected to internet)"
   ]
  },
  {
   "cell_type": "code",
   "execution_count": 65,
   "metadata": {},
   "outputs": [
    {
     "name": "stdout",
     "output_type": "stream",
     "text": [
      "connecting ... registering submission for oscarcorzog@gmail.com ...\n",
      "your submissions sheet is https://docs.google.com/spreadsheets/d/1gYXo5A4KBV9PRukEwg-5-97vBwB_Tc3SHVDnMWoiEL4\n",
      "----\n",
      "evaluation result CORRECT , submission registered\n"
     ]
    }
   ],
   "source": [
    "!./run SUBMIT_SOLUTION PS3_1 $src1"
   ]
  },
  {
   "cell_type": "markdown",
   "metadata": {},
   "source": [
    "## Ejercicio 2: $\\mu$, $\\sigma$ por clase\n",
    "\n",
    "Completa la función siguiente para que, por cada valor distinto de $y$ devuelva una lista de promedios y desviaciones estandar de cada columna de la porción de $X$ correspondiente a cada valor de y.\n",
    "\n",
    "La función a de devolver dos diccionarios python. Uno con las medias y otro con las desviaciones estandar para cada columna y para cada clave. Cada diccionario tendrá como claves los valores presentes en $y$.\n",
    "\n",
    "#### Ejecución de ejemplo:\n",
    "\n",
    "Para el siguiente $X$ e $y$:\n",
    "\n",
    "          X      y\n",
    "        ------  ---\n",
    "        [7, 8]   2\n",
    "        [1, 9]   1\n",
    "        [2, 4]   0\n",
    "        [7, 3]   2\n",
    "        [8, 8]   1\n",
    "        [6, 6]   1\n",
    "        [8, 0]   0\n",
    "        [6, 9]   1\n",
    "        [3, 5]   0|\n",
    "        [1, 8]   1\n",
    "\n",
    "La salida ha de ser:\n",
    "\n",
    "    > m,s = means_stds_perclass(X,y)\n",
    "    > print \"means\", means\n",
    "    > print \"stds \", stds\n",
    "    \n",
    "    means {0: array([ 4.33333333,  3.        ]), 1: array([ 4.4,  8. ]), 2: array([ 7. ,  5.5])}\n",
    "    stds  {0: array([ 2.62466929,  2.1602469 ]), 1: array([ 2.87054002,  1.09544512]), 2: array([ 0. ,  2.5])}"
   ]
  },
  {
   "cell_type": "code",
   "execution_count": 91,
   "metadata": {
    "scrolled": false
   },
   "outputs": [
    {
     "data": {
      "text/html": [
       "<div>\n",
       "<style scoped>\n",
       "    .dataframe tbody tr th:only-of-type {\n",
       "        vertical-align: middle;\n",
       "    }\n",
       "\n",
       "    .dataframe tbody tr th {\n",
       "        vertical-align: top;\n",
       "    }\n",
       "\n",
       "    .dataframe thead th {\n",
       "        text-align: right;\n",
       "    }\n",
       "</style>\n",
       "<table border=\"1\" class=\"dataframe\">\n",
       "  <thead>\n",
       "    <tr style=\"text-align: right;\">\n",
       "      <th></th>\n",
       "      <th>0</th>\n",
       "      <th>1</th>\n",
       "      <th>y</th>\n",
       "    </tr>\n",
       "  </thead>\n",
       "  <tbody>\n",
       "    <tr>\n",
       "      <th>0</th>\n",
       "      <td>7</td>\n",
       "      <td>8</td>\n",
       "      <td>2</td>\n",
       "    </tr>\n",
       "    <tr>\n",
       "      <th>1</th>\n",
       "      <td>1</td>\n",
       "      <td>9</td>\n",
       "      <td>1</td>\n",
       "    </tr>\n",
       "    <tr>\n",
       "      <th>2</th>\n",
       "      <td>2</td>\n",
       "      <td>4</td>\n",
       "      <td>0</td>\n",
       "    </tr>\n",
       "    <tr>\n",
       "      <th>3</th>\n",
       "      <td>7</td>\n",
       "      <td>3</td>\n",
       "      <td>2</td>\n",
       "    </tr>\n",
       "    <tr>\n",
       "      <th>4</th>\n",
       "      <td>8</td>\n",
       "      <td>8</td>\n",
       "      <td>1</td>\n",
       "    </tr>\n",
       "    <tr>\n",
       "      <th>5</th>\n",
       "      <td>6</td>\n",
       "      <td>6</td>\n",
       "      <td>1</td>\n",
       "    </tr>\n",
       "    <tr>\n",
       "      <th>6</th>\n",
       "      <td>8</td>\n",
       "      <td>0</td>\n",
       "      <td>0</td>\n",
       "    </tr>\n",
       "    <tr>\n",
       "      <th>7</th>\n",
       "      <td>6</td>\n",
       "      <td>9</td>\n",
       "      <td>1</td>\n",
       "    </tr>\n",
       "    <tr>\n",
       "      <th>8</th>\n",
       "      <td>3</td>\n",
       "      <td>5</td>\n",
       "      <td>0</td>\n",
       "    </tr>\n",
       "    <tr>\n",
       "      <th>9</th>\n",
       "      <td>1</td>\n",
       "      <td>8</td>\n",
       "      <td>1</td>\n",
       "    </tr>\n",
       "  </tbody>\n",
       "</table>\n",
       "</div>"
      ],
      "text/plain": [
       "   0  1  y\n",
       "0  7  8  2\n",
       "1  1  9  1\n",
       "2  2  4  0\n",
       "3  7  3  2\n",
       "4  8  8  1\n",
       "5  6  6  1\n",
       "6  8  0  0\n",
       "7  6  9  1\n",
       "8  3  5  0\n",
       "9  1  8  1"
      ]
     },
     "execution_count": 91,
     "metadata": {},
     "output_type": "execute_result"
    }
   ],
   "source": [
    "x = np.array([[7, 8],[1, 9],[2, 4],[7, 3],[8, 8],[6, 6],[8, 0],[6, 9],[3, 5],[1, 8]])\n",
    "y = np.array([2, 1, 0, 2, 1, 1, 0, 1, 0, 1])\n",
    "\n",
    "a = pd.DataFrame(x)\n",
    "a['y'] = y\n",
    "a"
   ]
  },
  {
   "cell_type": "code",
   "execution_count": 111,
   "metadata": {},
   "outputs": [
    {
     "data": {
      "text/plain": [
       "10"
      ]
     },
     "execution_count": 111,
     "metadata": {},
     "output_type": "execute_result"
    }
   ],
   "source": [
    "y.shape[0]"
   ]
  },
  {
   "cell_type": "code",
   "execution_count": 125,
   "metadata": {},
   "outputs": [
    {
     "data": {
      "text/plain": [
       "(3, 2)"
      ]
     },
     "execution_count": 125,
     "metadata": {},
     "output_type": "execute_result"
    }
   ],
   "source": [
    "l0 = []\n",
    "l1 =[]\n",
    "l2 = []\n",
    "for i in range(3):\n",
    "    if(i==0):\n",
    "        for j in range(y.shape[0]):\n",
    "            if(y[j]==i):\n",
    "                l0.append(x[j])\n",
    "                    \n",
    "    else:\n",
    "        if(i==1):\n",
    "            for j in range(y.shape[0]):\n",
    "                if(y[j]==i):\n",
    "                    l1.append(x[j])\n",
    "        else:\n",
    "            for j in range(y.shape[0]):\n",
    "                if(y[j]==i):\n",
    "                    l2.append(x[j])\n",
    "\n",
    "cero = np.std(np.array(l0),0)\n",
    "uno = np.std(np.array(l1),0)\n",
    "dos = np.std(np.array(l2),0)\n",
    "\n",
    "\n",
    "l = [cero, uno, dos]\n",
    "f = np.array(l)\n",
    "f.shape"
   ]
  },
  {
   "cell_type": "code",
   "execution_count": 116,
   "metadata": {},
   "outputs": [
    {
     "data": {
      "text/html": [
       "<div>\n",
       "<style scoped>\n",
       "    .dataframe tbody tr th:only-of-type {\n",
       "        vertical-align: middle;\n",
       "    }\n",
       "\n",
       "    .dataframe tbody tr th {\n",
       "        vertical-align: top;\n",
       "    }\n",
       "\n",
       "    .dataframe thead tr th {\n",
       "        text-align: left;\n",
       "    }\n",
       "\n",
       "    .dataframe thead tr:last-of-type th {\n",
       "        text-align: right;\n",
       "    }\n",
       "</style>\n",
       "<table border=\"1\" class=\"dataframe\">\n",
       "  <thead>\n",
       "    <tr>\n",
       "      <th></th>\n",
       "      <th colspan=\"2\" halign=\"left\">0</th>\n",
       "      <th colspan=\"2\" halign=\"left\">1</th>\n",
       "    </tr>\n",
       "    <tr>\n",
       "      <th></th>\n",
       "      <th>mean</th>\n",
       "      <th>std</th>\n",
       "      <th>mean</th>\n",
       "      <th>std</th>\n",
       "    </tr>\n",
       "    <tr>\n",
       "      <th>y</th>\n",
       "      <th></th>\n",
       "      <th></th>\n",
       "      <th></th>\n",
       "      <th></th>\n",
       "    </tr>\n",
       "  </thead>\n",
       "  <tbody>\n",
       "    <tr>\n",
       "      <th>0</th>\n",
       "      <td>4.333333</td>\n",
       "      <td>3.214550</td>\n",
       "      <td>3.0</td>\n",
       "      <td>2.645751</td>\n",
       "    </tr>\n",
       "    <tr>\n",
       "      <th>1</th>\n",
       "      <td>4.400000</td>\n",
       "      <td>3.209361</td>\n",
       "      <td>8.0</td>\n",
       "      <td>1.224745</td>\n",
       "    </tr>\n",
       "    <tr>\n",
       "      <th>2</th>\n",
       "      <td>7.000000</td>\n",
       "      <td>0.000000</td>\n",
       "      <td>5.5</td>\n",
       "      <td>3.535534</td>\n",
       "    </tr>\n",
       "  </tbody>\n",
       "</table>\n",
       "</div>"
      ],
      "text/plain": [
       "          0              1          \n",
       "       mean       std mean       std\n",
       "y                                   \n",
       "0  4.333333  3.214550  3.0  2.645751\n",
       "1  4.400000  3.209361  8.0  1.224745\n",
       "2  7.000000  0.000000  5.5  3.535534"
      ]
     },
     "execution_count": 116,
     "metadata": {},
     "output_type": "execute_result"
    }
   ],
   "source": [
    "b=a.groupby('y').agg(['mean','std'])\n",
    "b"
   ]
  },
  {
   "cell_type": "code",
   "execution_count": 100,
   "metadata": {},
   "outputs": [
    {
     "data": {
      "text/plain": [
       "{0: array([ 4.33333333,  3.21455025,  3.        ,  2.64575131]),\n",
       " 1: array([ 4.4       ,  3.20936131,  8.        ,  1.22474487]),\n",
       " 2: array([ 7.        ,  0.        ,  5.5       ,  3.53553391])}"
      ]
     },
     "execution_count": 100,
     "metadata": {},
     "output_type": "execute_result"
    }
   ],
   "source": [
    "c = b.values\n",
    "dic={}\n",
    "for i in range(b.shape[0]):\n",
    "    dic[i] = c[i]\n",
    "dic"
   ]
  },
  {
   "cell_type": "code",
   "execution_count": 2,
   "metadata": {},
   "outputs": [],
   "source": [
    "def means_stds_perclass(x,y):\n",
    "    import pandas as pd\n",
    "    import numpy as np\n",
    "    \n",
    "    a = pd.DataFrame(x)\n",
    "    a['y'] = y\n",
    "    \n",
    "    b = a.groupby('y').agg(['mean']).values\n",
    "    dm = {}\n",
    "    for i in range(b.shape[0]):\n",
    "        dm[i] = b[i]\n",
    "    \n",
    "    l0 = []\n",
    "    l1 =[]\n",
    "    l2 = []\n",
    "    for i in range(3):\n",
    "        if(i==0):\n",
    "            for j in range(y.shape[0]):\n",
    "                if(y[j]==i):\n",
    "                    l0.append(x[j])\n",
    "        else:\n",
    "            if(i==1):\n",
    "                for j in range(y.shape[0]):\n",
    "                    if(y[j]==i):\n",
    "                        l1.append(x[j])\n",
    "            else:\n",
    "                for j in range(y.shape[0]):\n",
    "                    if(y[j]==i):\n",
    "                        l2.append(x[j])\n",
    "\n",
    "    cero = np.std(np.array(l0),0)\n",
    "    uno = np.std(np.array(l1),0)\n",
    "    dos = np.std(np.array(l2),0)\n",
    "\n",
    "\n",
    "    #l = [cero, uno, dos]\n",
    "    #f = np.array(l)\n",
    "    ds={0:cero, 1:uno, 2:dos}\n",
    "    #for i in range(f.shape[0]):\n",
    "        #ds[i] = f[i]\n",
    "    \n",
    "    return dm, ds\n",
    "\n",
    "import urllib, inspect\n",
    "src2 = urllib.quote_plus(inspect.getsource(means_stds_perclass))"
   ]
  },
  {
   "cell_type": "code",
   "execution_count": 130,
   "metadata": {},
   "outputs": [
    {
     "name": "stdout",
     "output_type": "stream",
     "text": [
      "means {0: array([ 4.33333333,  3.        ]), 1: array([ 4.4,  8. ]), 2: array([ 7. ,  5.5])}\n",
      "stds  {0: array([ 2.62466929,  2.1602469 ]), 1: array([ 2.87054002,  1.09544512]), 2: array([ 0. ,  2.5])}\n"
     ]
    }
   ],
   "source": [
    "# VERIFICA TU CODIGO\n",
    "X = np.array([[7, 8],[1, 9],[2, 4],[7, 3],[8, 8],[6, 6],[8, 0],[6, 9],[3, 5],[1, 8]])\n",
    "y = np.array([2, 1, 0, 2, 1, 1, 0, 1, 0, 1])\n",
    "means,stds = means_stds_perclass(X,y)\n",
    "print \"means\", means\n",
    "print \"stds \", stds"
   ]
  },
  {
   "cell_type": "markdown",
   "metadata": {},
   "source": [
    "#### evaluate your answer before submitting:"
   ]
  },
  {
   "cell_type": "code",
   "execution_count": 131,
   "metadata": {},
   "outputs": [
    {
     "name": "stdout",
     "output_type": "stream",
     "text": [
      "/opt/miniconda/lib/python2.7/site-packages/numpy/core/_methods.py:135: RuntimeWarning: Degrees of freedom <= 0 for slice\r\n",
      "  keepdims=keepdims)\r\n",
      "/opt/miniconda/lib/python2.7/site-packages/numpy/core/_methods.py:105: RuntimeWarning: invalid value encountered in true_divide\r\n",
      "  arrmean, rcount, out=arrmean, casting='unsafe', subok=False)\r\n",
      "/opt/miniconda/lib/python2.7/site-packages/numpy/core/_methods.py:127: RuntimeWarning: invalid value encountered in double_scalars\r\n",
      "  ret = ret.dtype.type(ret / rcount)\r\n",
      "evaluation result NOT CORRECT\r\n"
     ]
    }
   ],
   "source": [
    "!./run CHECK_SOLUTION PS3_2 $src2"
   ]
  },
  {
   "cell_type": "markdown",
   "metadata": {},
   "source": [
    "#### submit your answer (you must be connected to internet)"
   ]
  },
  {
   "cell_type": "code",
   "execution_count": null,
   "metadata": {},
   "outputs": [],
   "source": [
    "!./run SUBMIT_SOLUTION PS3_2 $src2"
   ]
  },
  {
   "cell_type": "markdown",
   "metadata": {},
   "source": [
    "## Ejercicio 3: Probabilidad conjunta para una clase\n",
    "\n",
    "completa la función siguiente para que dado\n",
    "\n",
    "- $X \\in \\mathbb{R}^{n\\times m}$ = $\\{ x_1, ..., x_n\\}$, con $x_i \\in \\mathbb{R}^m$ = $\\{x_{i,1},...,x_{i,m}\\}$\n",
    "- $m \\in \\mathbb{R}^m$ un vector con un $\\mu$ para cada columna de $X$\n",
    "- $s \\in \\mathbb{R}^m$ un vector con un $\\sigma$ para cada columna de $X$\n",
    "\n",
    "devuelva un vector $P \\in\\mathbb{R}^{n}$ = $\\{p_1,...,p_n\\}$\n",
    "\n",
    "de forma que:\n",
    "\n",
    "$$p_i = \\prod_{k=1}^m P_{\\mu_k,\\sigma_k}(x_{i,k})$$\n",
    "\n",
    "en donde\n",
    "\n",
    "$P_{\\mu_k,\\sigma_k}(x_{i,k})$ es la probabilidad de $x_{i,k}$ según una distribución normal con media $\\mu_k$ y desviación estándar $\\sigma_k$\n",
    "\n",
    "El resultado ha de ser un array numpy\n",
    "\n",
    "#### Ejecución de ejemplo\n",
    "\n",
    "Para $X$ como en el ejemplo del ejercicio anterior y $m=[4,5]$ y $s=[4,2]$ el resultado debería de ser el siguiente:\n",
    "\n",
    "    > prob(X, m, s)\n",
    "\n",
    "    array([ 0.00487532,  0.00203234,  0.01549375,  0.00910831,  0.00391743,\n",
    "            0.01549375,  0.00053017,  0.00237604,  0.01928228,  0.00487532])\n",
    "            \n",
    "**Sugerencia**: usa el método `pdf` de [`scipy.stats.norm`](https://docs.scipy.org/doc/scipy/reference/generated/scipy.stats.norm.html) para calcular $P_{\\mu_k,\\sigma_k}(x_{i,k})$"
   ]
  },
  {
   "cell_type": "code",
   "execution_count": null,
   "metadata": {},
   "outputs": [],
   "source": [
    "def prob(X, m, s):\n",
    "    import scipy.stats as stats\n",
    "    \n",
    "    #Escribe tu código AQUI!!\n",
    "    \n",
    "    \n",
    "    return result\n",
    "\n",
    "import urllib, inspect\n",
    "src3 = urllib.quote_plus(inspect.getsource(prob))"
   ]
  },
  {
   "cell_type": "code",
   "execution_count": null,
   "metadata": {},
   "outputs": [],
   "source": [
    "X = np.array([[7, 8],[1, 9],[2, 4],[7, 3],[8, 8],[6, 6],[8, 0],[6, 9],[3, 5],[1, 8]])\n",
    "y = np.array([2, 1, 0, 2, 1, 1, 0, 1, 0, 1])\n",
    "m = np.r_[4,5]\n",
    "s = np.r_[4,2]\n",
    "prob(X, m, s)"
   ]
  },
  {
   "cell_type": "code",
   "execution_count": 5,
   "metadata": {},
   "outputs": [
    {
     "data": {
      "text/plain": [
       "array([4, 5])"
      ]
     },
     "execution_count": 5,
     "metadata": {},
     "output_type": "execute_result"
    }
   ],
   "source": [
    "import pandas as pd\n",
    "import numpy as np\n",
    "\n",
    "m = np.r_[4,5]\n",
    "m"
   ]
  },
  {
   "cell_type": "markdown",
   "metadata": {},
   "source": [
    "#### evaluate your answer before submitting:"
   ]
  },
  {
   "cell_type": "code",
   "execution_count": null,
   "metadata": {},
   "outputs": [],
   "source": [
    "!./run CHECK_SOLUTION PS3_3 $src3"
   ]
  },
  {
   "cell_type": "markdown",
   "metadata": {},
   "source": [
    "#### submit your answer (you must be connected to internet)"
   ]
  },
  {
   "cell_type": "code",
   "execution_count": null,
   "metadata": {},
   "outputs": [],
   "source": [
    "!./run SUBMIT_SOLUTION PS3_3 $src3"
   ]
  },
  {
   "cell_type": "markdown",
   "metadata": {},
   "source": [
    "## Ejercicio 4: Cálculo de la proporcion de elementos de cada clase\n",
    "\n",
    "Completa la función siguiente para que, dado un $y$, devuelva un diccionario con la proporcion de elementos existentes para cada valor distinto de $y$\n",
    "\n",
    "#### Ejecución de ejemplo\n",
    "\n",
    "    > y = [2 1 0 2 1 1 0 1 0 1]\n",
    "    > props(y)\n",
    "    \n",
    "    {0:0.3, 1:0.5, 2:0.2}"
   ]
  },
  {
   "cell_type": "code",
   "execution_count": 40,
   "metadata": {},
   "outputs": [
    {
     "data": {
      "text/plain": [
       "[0, 1, 2]"
      ]
     },
     "execution_count": 40,
     "metadata": {},
     "output_type": "execute_result"
    }
   ],
   "source": [
    "y = np.array([2, 1, 0, 2, 1, 1, 0, 1, 0, 1])\n",
    "unico = []\n",
    "for i in y:\n",
    "    if i not in unico:\n",
    "        unico.append(i)\n",
    "orden = sorted(unico)\n",
    "orden"
   ]
  },
  {
   "cell_type": "code",
   "execution_count": 51,
   "metadata": {},
   "outputs": [
    {
     "data": {
      "text/plain": [
       "{0: 0.3076923076923077, 1: 0.46153846153846156, 2: 0.23076923076923078}"
      ]
     },
     "execution_count": 51,
     "metadata": {},
     "output_type": "execute_result"
    }
   ],
   "source": [
    "y = np.array([2, 1, 0, 2, 1, 1, 0, 1, 0, 1,0,2,1])\n",
    "unico = []\n",
    "a=0\n",
    "b=[]\n",
    "for i in y:\n",
    "    if i not in unico:\n",
    "        unico.append(i)\n",
    "orden = sorted(unico)\n",
    "for i in orden:\n",
    "    for j in y:\n",
    "        if(i==j):\n",
    "            a=a+1\n",
    "    b.append(a)\n",
    "    a=0\n",
    "c=[]\n",
    "for i in b:\n",
    "    c.append(i/(y.shape[0]*1.))\n",
    "d={}\n",
    "for i in range(len(orden)):\n",
    "    d[orden[i]]=c[i]\n",
    "    \n",
    "d"
   ]
  },
  {
   "cell_type": "code",
   "execution_count": 53,
   "metadata": {},
   "outputs": [],
   "source": [
    "def props(y):\n",
    "    unico = []\n",
    "    a=0\n",
    "    b=[]\n",
    "    for i in y:\n",
    "        if i not in unico:\n",
    "            unico.append(i)\n",
    "    orden = sorted(unico)\n",
    "    for i in orden:\n",
    "        for j in y:\n",
    "            if(i==j):\n",
    "                a=a+1\n",
    "        b.append(a)\n",
    "        a=0\n",
    "    c=[]\n",
    "    for i in b:\n",
    "        c.append(i/(y.shape[0]*1.))\n",
    "    d={}\n",
    "    for i in range(len(orden)):\n",
    "        d[orden[i]]=c[i]\n",
    "    return d\n",
    "\n",
    "import urllib, inspect\n",
    "src4 = urllib.quote_plus(inspect.getsource(props))"
   ]
  },
  {
   "cell_type": "code",
   "execution_count": 54,
   "metadata": {},
   "outputs": [
    {
     "name": "stdout",
     "output_type": "stream",
     "text": [
      "{0: 0.3, 1: 0.5, 2: 0.2}\n"
     ]
    }
   ],
   "source": [
    "# VERIFICA TU CODIGO\n",
    "y = np.array([2, 1, 0, 2, 1, 1, 0, 1, 0, 1])\n",
    "print props(y)"
   ]
  },
  {
   "cell_type": "markdown",
   "metadata": {},
   "source": [
    "#### evaluate your answer before submitting:"
   ]
  },
  {
   "cell_type": "code",
   "execution_count": 55,
   "metadata": {},
   "outputs": [
    {
     "name": "stdout",
     "output_type": "stream",
     "text": [
      "evaluation result CORRECT\r\n"
     ]
    }
   ],
   "source": [
    "!./run CHECK_SOLUTION PS3_4 $src4"
   ]
  },
  {
   "cell_type": "markdown",
   "metadata": {},
   "source": [
    "#### submit your answer (you must be connected to internet)"
   ]
  },
  {
   "cell_type": "code",
   "execution_count": 57,
   "metadata": {},
   "outputs": [
    {
     "name": "stdout",
     "output_type": "stream",
     "text": [
      "connecting ... registering submission for oscarcorzog@gmail.com ...\n",
      "your submissions sheet is https://docs.google.com/spreadsheets/d/1gYXo5A4KBV9PRukEwg-5-97vBwB_Tc3SHVDnMWoiEL4\n",
      "----\n",
      "evaluation result CORRECT , submission registered\n"
     ]
    }
   ],
   "source": [
    "!./run SUBMIT_SOLUTION PS3_4 $src4"
   ]
  },
  {
   "cell_type": "markdown",
   "metadata": {},
   "source": [
    "## Ejercicio 5: Clase API sklearn\n",
    "\n",
    "ensambla las funciones de los ejercicios anteriores en una clase conforme al API de machine learning de sklearn según se describe en el código siguiente.\n",
    "\n",
    "#### Ejecución de ejemplo\n",
    "\n",
    "El siguiente código\n",
    "\n",
    "    > X = np.array([[7, 8],[1, 9],[2, 4],[7, 3],[8, 8],[6, 6],[8, 0],[6, 9],[3, 5],[1, 8]])\n",
    "    > y = np.array([1, 1, 0, 1, 0, 1, 0, 1, 0, 1])\n",
    "\n",
    "    > b = Bayes()\n",
    "    > b.fit(X,y)\n",
    "    > print b.predict(X)\n",
    "    > print b.score(X,y)\n",
    "    \n",
    "debe de arrojar el siguiente resultado\n",
    "\n",
    "    [1 1 0 0 1 1 0 1 1 1]\n",
    "    0.7  "
   ]
  },
  {
   "cell_type": "code",
   "execution_count": null,
   "metadata": {},
   "outputs": [],
   "source": [
    "def Bayes(**args): # hack for inspect to work with classes\n",
    "    from scipy.optimize import minimize\n",
    "    import numpy as np\n",
    "    \n",
    "    class Bayes_class:\n",
    "        def fit(self, X, y):\n",
    "            # ESCRIBE TU CÓDIGO AQUÍ\n",
    "            self.means = ...\n",
    "            self.stds  = ...\n",
    "            self.props = ...\n",
    "\n",
    "        def predict(self, X):\n",
    "            \n",
    "            # TU CÓDIGO AQUÍ\n",
    "            # usa el código del ejercicio 4 para elegir, para cada fila de X, \n",
    "            # la clase que mas probabilidad tenga\n",
    "            \n",
    "            predictions = ...\n",
    "            \n",
    "            return predictions\n",
    "                \n",
    "        def score(self, X, y):\n",
    "            return np.mean(y==self.predict(X))\n",
    "        \n",
    "    return Bayes_class(**args)\n",
    "\n",
    "import urllib, inspect\n",
    "src5 = urllib.quote_plus(inspect.getsource(Bayes))"
   ]
  },
  {
   "cell_type": "code",
   "execution_count": null,
   "metadata": {},
   "outputs": [],
   "source": [
    "# VERIFICA TU CODIGO\n",
    "import numpy as np\n",
    "X = np.array([[7, 8],[1, 9],[2, 4],[7, 3],[8, 8],[6, 6],[8, 0],[6, 9],[3, 5],[1, 8]])\n",
    "y = np.array([1, 1, 0, 1, 0, 1, 0, 1, 0, 1])\n",
    "\n",
    "b = Bayes()\n",
    "b.fit(X,y)\n",
    "print \"mi codigo\"\n",
    "print b.predict(X)\n",
    "print b.score(X,y)\n",
    "\n",
    "from sklearn.naive_bayes import GaussianNB\n",
    "g = GaussianNB()\n",
    "g.fit(X,y)\n",
    "print \"\\nsklearn\"\n",
    "print g.predict(X)\n",
    "print g.score(X,y)"
   ]
  },
  {
   "cell_type": "markdown",
   "metadata": {},
   "source": [
    "#### evaluate your answer before submitting:"
   ]
  },
  {
   "cell_type": "code",
   "execution_count": null,
   "metadata": {},
   "outputs": [],
   "source": [
    "!./run CHECK_SOLUTION PS3_5 $src5"
   ]
  },
  {
   "cell_type": "markdown",
   "metadata": {},
   "source": [
    "#### submit your answer (you must be connected to internet)"
   ]
  },
  {
   "cell_type": "code",
   "execution_count": null,
   "metadata": {},
   "outputs": [],
   "source": [
    "!./run SUBMIT_SOLUTION PS3_5 $src5"
   ]
  },
  {
   "cell_type": "markdown",
   "metadata": {},
   "source": [
    "---\n",
    "# <center> Thanks! </center>"
   ]
  }
 ],
 "metadata": {
  "kernelspec": {
   "display_name": "Python 2",
   "language": "python",
   "name": "python2"
  },
  "language_info": {
   "codemirror_mode": {
    "name": "ipython",
    "version": 2
   },
   "file_extension": ".py",
   "mimetype": "text/x-python",
   "name": "python",
   "nbconvert_exporter": "python",
   "pygments_lexer": "ipython2",
   "version": "2.7.14"
  }
 },
 "nbformat": 4,
 "nbformat_minor": 2
}
