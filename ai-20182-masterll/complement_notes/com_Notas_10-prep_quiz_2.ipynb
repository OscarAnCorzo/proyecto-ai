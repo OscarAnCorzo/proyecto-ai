{
 "cells": [
  {
   "cell_type": "markdown",
   "metadata": {},
   "source": [
    "# Prep Quiz 2: Machine learning!"
   ]
  },
  {
   "cell_type": "markdown",
   "metadata": {},
   "source": [
    "### 1) GENERAL FRAMEWORK FOR IMAGE CLASSIFICATION\n",
    "\n",
    "The general pipeline in classification consist on two set of data: \n",
    "\n",
    "-dataset for training:\n",
    "    - **X_train** -> sample features\n",
    "    - **y_train** -> sample labels\n",
    "\n",
    "-dataset for test\n",
    "    - **X_test** -> sample features\n",
    "\n",
    "The **goal** is to estimate the labels for **X_test**.\n",
    "\n",
    "What we need..."
   ]
  },
  {
   "cell_type": "markdown",
   "metadata": {},
   "source": [
    "Importar librerias ... las de siempre..."
   ]
  },
  {
   "cell_type": "code",
   "execution_count": 1,
   "metadata": {},
   "outputs": [],
   "source": [
    "import pandas as pd\n",
    "import numpy as np\n",
    "import matplotlib.pyplot as plt\n",
    "\n",
    "# los estimadores...por ejemplo\n",
    "from sklearn.naive_bayes import GaussianNB\n",
    "from sklearn.tree import DecisionTreeClassifier\n",
    "from sklearn.svm import SVC\n",
    "from sklearn.ensemble import RandomForestClassifier\n",
    "\n",
    "#...para metricas\n",
    "from sklearn.metrics import *"
   ]
  },
  {
   "cell_type": "markdown",
   "metadata": {},
   "source": [
    "cargamos los datos ..."
   ]
  },
  {
   "cell_type": "code",
   "execution_count": 2,
   "metadata": {},
   "outputs": [],
   "source": [
    "d = pd.read_csv(\"../data/data_banknote_authentication.txt.gz\")\n",
    "X_train = d.values[:,:-1]\n",
    "y_train = d.values[:,-1]"
   ]
  },
  {
   "cell_type": "markdown",
   "metadata": {},
   "source": [
    "luego seleccionamos un método de clasificación y seguimos:\n",
    "- Fit -> aprender el modelo con respecto a los datos etiquetados\n",
    "- predict -> le pasamos nuestros datos de test\n",
    "- score -> evaluamos el comportamiento de nuestro método"
   ]
  },
  {
   "cell_type": "markdown",
   "metadata": {},
   "source": [
    "evaluando en test ..usando training and test"
   ]
  },
  {
   "cell_type": "code",
   "execution_count": 3,
   "metadata": {},
   "outputs": [
    {
     "name": "stdout",
     "output_type": "stream",
     "text": [
      "shape X_train:  (1234, 4) shape y_train:  (1234,)\n",
      "shape X_test:  (138, 4) shape y_test:  (138,)\n"
     ]
    }
   ],
   "source": [
    "d = pd.read_csv(\"../data/data_banknote_authentication.txt.gz\")\n",
    "X_ = d.values[:,:-1]\n",
    "y_ = d.values[:,-1]\n",
    "n = int(len(X_)*0.9) #90%\n",
    "X_train = X_[:n]\n",
    "y_train = y_[:n]\n",
    "X_test  = X_[n:]\n",
    "y_test  = y_[n:]\n",
    "\n",
    "print \"shape X_train: \" ,  X_train.shape, \"shape y_train: \" ,  y_train.shape\n",
    "print \"shape X_test: \" ,  X_test.shape, \"shape y_test: \" ,  y_test.shape\n",
    "\n"
   ]
  },
  {
   "cell_type": "code",
   "execution_count": 4,
   "metadata": {},
   "outputs": [
    {
     "name": "stdout",
     "output_type": "stream",
     "text": [
      "score 1 0.81\n",
      "score 2: 0.81\n"
     ]
    },
    {
     "data": {
      "text/plain": [
       "0.81159420289855078"
      ]
     },
     "execution_count": 4,
     "metadata": {},
     "output_type": "execute_result"
    }
   ],
   "source": [
    "estimator = GaussianNB()\n",
    "\n",
    "estimator.fit(X_train, y_train)\n",
    "predictions = estimator.predict(X_test)\n",
    "\n",
    "score_1 = accuracy_score(predictions, y_test)\n",
    "score_2 = np.mean(predictions==y_test)\n",
    "print \"score 1 %.2f\"%score_1\n",
    "print \"score 2: %.2f\"%score_2\n",
    "estimator.score(X_test, y_test)"
   ]
  },
  {
   "cell_type": "markdown",
   "metadata": {},
   "source": [
    "# Desafio: Fashion MNIST\n",
    "\n",
    "## Explore the dataset\n",
    "    \n",
    "    1. How many classses ?\n",
    "    2. How many images ?\n",
    "    3. How the distribution of data is?\n",
    "\n",
    "<img src=\"../imgs/fashion-mnist-sprite.png\" style=\"width:300px;\">\n",
    "<img src=\"../imgs/embedding.gif\" style=\"width:300px;\">"
   ]
  },
  {
   "cell_type": "markdown",
   "metadata": {},
   "source": [
    "- Download data from <a href=\"https://github.com/zalandoresearch/fashion-mnist\"> HERE</a>).</small>\n",
    "- Copy data in **../data/fashion/**\n",
    "- **Dont** unzip"
   ]
  },
  {
   "cell_type": "code",
   "execution_count": 5,
   "metadata": {},
   "outputs": [],
   "source": [
    "%run ../code/mnist_reader.py\n",
    "\n",
    "X_train, y_train = load_mnist('../data/fashion', kind='train')\n",
    "X_test, y_test = load_mnist('../data/fashion', kind='t10k')"
   ]
  },
  {
   "cell_type": "markdown",
   "metadata": {},
   "source": [
    "- Which sizes have the training and test dataset ?"
   ]
  },
  {
   "cell_type": "code",
   "execution_count": 6,
   "metadata": {},
   "outputs": [
    {
     "name": "stdout",
     "output_type": "stream",
     "text": [
      "(60000, 784)\n",
      "(60000,)\n",
      "(10000, 784)\n",
      "(10000,)\n"
     ]
    }
   ],
   "source": [
    "print(X_train.shape)\n",
    "print(y_train.shape)\n",
    "print(X_test.shape)\n",
    "print(y_test.shape)"
   ]
  },
  {
   "cell_type": "markdown",
   "metadata": {},
   "source": [
    "- only take 50 % of training and test"
   ]
  },
  {
   "cell_type": "code",
   "execution_count": 7,
   "metadata": {},
   "outputs": [],
   "source": [
    "x2_train = X_train[:30000]\n",
    "y2_train = y_train[:30000]\n",
    "\n",
    "x2_test = X_test[:5000]\n",
    "y2_test = y_test[:5000]"
   ]
  },
  {
   "cell_type": "code",
   "execution_count": 8,
   "metadata": {},
   "outputs": [
    {
     "data": {
      "text/plain": [
       "(30000,)"
      ]
     },
     "execution_count": 8,
     "metadata": {},
     "output_type": "execute_result"
    }
   ],
   "source": [
    "y2_train.shape"
   ]
  },
  {
   "cell_type": "markdown",
   "metadata": {},
   "source": [
    "- what about class balance?"
   ]
  },
  {
   "cell_type": "code",
   "execution_count": 9,
   "metadata": {},
   "outputs": [
    {
     "name": "stdout",
     "output_type": "stream",
     "text": [
      "digito   número de imágenes\n",
      "    0     2945\n",
      "    1     3015\n",
      "    2     2989\n",
      "    3     3017\n",
      "    4     2960\n",
      "    5     3030\n",
      "    6     3081\n",
      "    7     3021\n",
      "    8     2972\n",
      "    9     2970\n"
     ]
    }
   ],
   "source": [
    "print \"digito   número de imágenes\"\n",
    "for i in np.unique(y2_train):\n",
    "    print \"   \",int(i), \"   \", np.sum(y2_train==i)"
   ]
  },
  {
   "cell_type": "markdown",
   "metadata": {},
   "source": [
    "- what is the best classfier?"
   ]
  },
  {
   "cell_type": "code",
   "execution_count": 10,
   "metadata": {},
   "outputs": [],
   "source": [
    "est = GaussianNB()\n",
    "entreno = est.fit(x2_train,y2_train)\n",
    "predictions = est.predict(x2_test)"
   ]
  },
  {
   "cell_type": "code",
   "execution_count": 11,
   "metadata": {},
   "outputs": [
    {
     "name": "stdout",
     "output_type": "stream",
     "text": [
      "0.577\n"
     ]
    }
   ],
   "source": [
    "print \"%.3f\"%accuracy_score(predictions, y2_test)"
   ]
  },
  {
   "cell_type": "code",
   "execution_count": 12,
   "metadata": {},
   "outputs": [
    {
     "name": "stdout",
     "output_type": "stream",
     "text": [
      "score 1 0.577\n",
      "score 2: 0.577\n"
     ]
    }
   ],
   "source": [
    "score_1 = accuracy_score(predictions, y2_test)\n",
    "score_2 = np.mean(predictions==y2_test)\n",
    "print \"score 1 %.3f\"%score_1\n",
    "print \"score 2: %.3f\"%score_2"
   ]
  },
  {
   "cell_type": "code",
   "execution_count": 13,
   "metadata": {},
   "outputs": [],
   "source": [
    "est = DecisionTreeClassifier()\n",
    "entreno = est.fit(x2_train,y2_train)\n",
    "predictions = est.predict(x2_test)"
   ]
  },
  {
   "cell_type": "code",
   "execution_count": 14,
   "metadata": {},
   "outputs": [
    {
     "name": "stdout",
     "output_type": "stream",
     "text": [
      "0.780\n"
     ]
    }
   ],
   "source": [
    "print \"%.3f\"%accuracy_score(predictions, y2_test)"
   ]
  },
  {
   "cell_type": "code",
   "execution_count": 15,
   "metadata": {},
   "outputs": [
    {
     "name": "stdout",
     "output_type": "stream",
     "text": [
      "score 1 0.780\n",
      "score 2: 0.780\n"
     ]
    }
   ],
   "source": [
    "score_1 = accuracy_score(predictions, y2_test)\n",
    "score_2 = np.mean(predictions==y2_test)\n",
    "print \"score 1 %.3f\"%score_1\n",
    "print \"score 2: %.3f\"%score_2"
   ]
  },
  {
   "cell_type": "code",
   "execution_count": 16,
   "metadata": {},
   "outputs": [],
   "source": [
    "est = RandomForestClassifier()\n",
    "entreno = est.fit(x2_train,y2_train)\n",
    "predictions = est.predict(x2_test)"
   ]
  },
  {
   "cell_type": "code",
   "execution_count": 17,
   "metadata": {},
   "outputs": [
    {
     "name": "stdout",
     "output_type": "stream",
     "text": [
      "0.843\n"
     ]
    }
   ],
   "source": [
    "print \"%.3f\"%accuracy_score(predictions, y2_test)"
   ]
  },
  {
   "cell_type": "code",
   "execution_count": 18,
   "metadata": {
    "scrolled": true
   },
   "outputs": [
    {
     "name": "stdout",
     "output_type": "stream",
     "text": [
      "score 1 0.843\n",
      "score 2: 0.843\n"
     ]
    }
   ],
   "source": [
    "score_1 = accuracy_score(predictions, y2_test)\n",
    "score_2 = np.mean(predictions==y2_test)\n",
    "print \"score 1 %.3f\"%score_1\n",
    "print \"score 2: %.3f\"%score_2"
   ]
  },
  {
   "cell_type": "code",
   "execution_count": 19,
   "metadata": {},
   "outputs": [],
   "source": [
    "n = int(len(X_train)*0.1)\n",
    "x2_train = X_train[:n]\n",
    "y2_train = y_train[:n]\n",
    "\n",
    "x2_test = X_test[:n]\n",
    "y2_test = y_test[:n]"
   ]
  },
  {
   "cell_type": "code",
   "execution_count": null,
   "metadata": {},
   "outputs": [],
   "source": [
    "est = SVC()\n",
    "entreno = est.fit(x2_train,y2_train)\n",
    "predictions = est.predict(x2_test)"
   ]
  },
  {
   "cell_type": "code",
   "execution_count": null,
   "metadata": {},
   "outputs": [],
   "source": [
    "print \"%.3f\"%accuracy_score(predictions, y2_test)"
   ]
  },
  {
   "cell_type": "code",
   "execution_count": null,
   "metadata": {},
   "outputs": [],
   "source": [
    "score_1 = accuracy_score(predictions, y2_test)\n",
    "score_2 = np.mean(predictions==y2_test)\n",
    "print \"score 1 %.3f\"%score_1\n",
    "print \"score 2: %.3f\"%score_2"
   ]
  },
  {
   "cell_type": "markdown",
   "metadata": {},
   "source": [
    "- What about a linear kernel in RBF and with 'entropy' for measure the quality of trees "
   ]
  },
  {
   "cell_type": "code",
   "execution_count": 20,
   "metadata": {},
   "outputs": [],
   "source": [
    "est = SVC(kernel='linear')\n",
    "entreno = est.fit(x2_train,y2_train)\n",
    "predictions = est.predict(x2_test)\n"
   ]
  },
  {
   "cell_type": "code",
   "execution_count": 21,
   "metadata": {},
   "outputs": [
    {
     "name": "stdout",
     "output_type": "stream",
     "text": [
      "0.795\n"
     ]
    }
   ],
   "source": [
    "print \"%.3f\"%accuracy_score(predictions, y2_test)"
   ]
  },
  {
   "cell_type": "code",
   "execution_count": 22,
   "metadata": {},
   "outputs": [
    {
     "name": "stdout",
     "output_type": "stream",
     "text": [
      "score 1 0.795\n",
      "score 2: 0.795\n"
     ]
    }
   ],
   "source": [
    "score_1 = accuracy_score(predictions, y2_test)\n",
    "score_2 = np.mean(predictions==y2_test)\n",
    "print \"score 1 %.3f\"%score_1\n",
    "print \"score 2: %.3f\"%score_2"
   ]
  },
  {
   "cell_type": "code",
   "execution_count": 23,
   "metadata": {},
   "outputs": [],
   "source": [
    "est = DecisionTreeClassifier(criterion='entropy')\n",
    "entreno = est.fit(x2_train,y2_train)\n",
    "predictions = est.predict(x2_test)\n"
   ]
  },
  {
   "cell_type": "code",
   "execution_count": 24,
   "metadata": {},
   "outputs": [
    {
     "name": "stdout",
     "output_type": "stream",
     "text": [
      "0.745\n"
     ]
    }
   ],
   "source": [
    "print \"%.3f\"%accuracy_score(predictions, y2_test)"
   ]
  },
  {
   "cell_type": "markdown",
   "metadata": {},
   "source": [
    "Now, we go to the image representation.\n",
    "- What about histograms?\n",
    "- Visualize some examples"
   ]
  },
  {
   "cell_type": "code",
   "execution_count": 31,
   "metadata": {},
   "outputs": [
    {
     "data": {
      "image/png": "[encoded data removed]",
      "text/plain": [
       "<matplotlib.figure.Figure at 0x7f3f81151bd0>"
      ]
     },
     "metadata": {},
     "output_type": "display_data"
    },
    {
     "data": {
      "image/png": "[encoded data removed]",
      "text/plain": [
       "<matplotlib.figure.Figure at 0x7f3f834d0290>"
      ]
     },
     "metadata": {},
     "output_type": "display_data"
    }
   ],
   "source": [
    "random_idx = np.random.randint(x2_train.shape[0])\n",
    "hist = np.histogram(x2_train[random_idx], bins=255)[0];\n",
    "plt.imshow(x2_train[random_idx].reshape(28,28),interpolation=\"nearest\", cmap = plt.cm.Greys_r);\n",
    "plt.figure();\n",
    "plt.hist(x2_train[random_idx], bins=255);"
   ]
  },
  {
   "cell_type": "code",
   "execution_count": 45,
   "metadata": {},
   "outputs": [
    {
     "data": {
      "text/plain": [
       "<Container object of 254 artists>"
      ]
     },
     "execution_count": 45,
     "metadata": {},
     "output_type": "execute_result"
    },
    {
     "data": {
      "image/png": "[encoded data removed]",
      "text/plain": [
       "<matplotlib.figure.Figure at 0x7f3f80dab710>"
      ]
     },
     "metadata": {},
     "output_type": "display_data"
    }
   ],
   "source": [
    "#quitamos el 0 del histograma\n",
    "x = np.array(range(len(hist[1:255])))\n",
    "plt.bar(x,hist[1:255], align='center')"
   ]
  },
  {
   "cell_type": "code",
   "execution_count": null,
   "metadata": {},
   "outputs": [],
   "source": []
  },
  {
   "cell_type": "markdown",
   "metadata": {},
   "source": [
    "- What about PCA representation ?\n",
    "- Dont use cross-validation"
   ]
  },
  {
   "cell_type": "code",
   "execution_count": null,
   "metadata": {},
   "outputs": [],
   "source": []
  },
  {
   "cell_type": "markdown",
   "metadata": {},
   "source": [
    "- convolution is now useful?\n",
    "- gradients are appropieate to describe these images?\n",
    "- perform an experiment using some gradient kernel "
   ]
  },
  {
   "cell_type": "code",
   "execution_count": 41,
   "metadata": {},
   "outputs": [],
   "source": [
    "\n",
    "    "
   ]
  },
  {
   "cell_type": "markdown",
   "metadata": {},
   "source": [
    "-visualize some examples"
   ]
  },
  {
   "cell_type": "code",
   "execution_count": null,
   "metadata": {},
   "outputs": [],
   "source": []
  },
  {
   "cell_type": "markdown",
   "metadata": {},
   "source": [
    "- compute again classifications and do a tunning of parameters"
   ]
  },
  {
   "cell_type": "code",
   "execution_count": null,
   "metadata": {},
   "outputs": [],
   "source": []
  },
  {
   "cell_type": "markdown",
   "metadata": {},
   "source": [
    "- what about several convolution as filters?\n",
    "- what abot convolutions + PCA?\n",
    "- what it is learning curve for different depth trees on random forest?\n",
    "- what is confussion matrix\n"
   ]
  },
  {
   "cell_type": "markdown",
   "metadata": {},
   "source": [
    "# References\n",
    " - https://github.com/zalandoresearch/fashion-mnist"
   ]
  }
 ],
 "metadata": {
  "kernelspec": {
   "display_name": "Python 3",
   "language": "python",
   "name": "python3"
  },
  "language_info": {
   "codemirror_mode": {
    "name": "ipython",
    "version": 3
   },
   "file_extension": ".py",
   "mimetype": "text/x-python",
   "name": "python",
   "nbconvert_exporter": "python",
   "pygments_lexer": "ipython3",
   "version": "3.7.1"
  }
 },
 "nbformat": 4,
 "nbformat_minor": 2
}
