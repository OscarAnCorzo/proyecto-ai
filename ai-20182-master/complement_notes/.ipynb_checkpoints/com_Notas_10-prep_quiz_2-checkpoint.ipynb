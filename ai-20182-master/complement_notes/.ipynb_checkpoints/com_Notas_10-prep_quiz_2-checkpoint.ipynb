{
 "cells": [
  {
   "cell_type": "markdown",
   "metadata": {},
   "source": [
    "# Prep Quiz 2: Machine learning!"
   ]
  },
  {
   "cell_type": "markdown",
   "metadata": {},
   "source": [
    "### 1) GENERAL FRAMEWORK FOR IMAGE CLASSIFICATION\n",
    "\n",
    "The general pipeline in classification consist on two set of data: \n",
    "\n",
    "-dataset for training:\n",
    "    - **X_train** -> sample features\n",
    "    - **y_train** -> sample labels\n",
    "\n",
    "-dataset for test\n",
    "    - **X_test** -> sample features\n",
    "\n",
    "The **goal** is to estimate the labels for **X_test**.\n",
    "\n",
    "What we need..."
   ]
  },
  {
   "cell_type": "markdown",
   "metadata": {},
   "source": [
    "Importar librerias ... las de siempre..."
   ]
  },
  {
   "cell_type": "code",
   "execution_count": 1,
   "metadata": {},
   "outputs": [],
   "source": [
    "import pandas as pd\n",
    "import numpy as np\n",
    "import matplotlib.pyplot as plt\n",
    "\n",
    "# los estimadores...por ejemplo\n",
    "from sklearn.naive_bayes import GaussianNB\n",
    "from sklearn.tree import DecisionTreeClassifier\n",
    "from sklearn.svm import SVC\n",
    "from sklearn.ensemble import RandomForestClassifier\n",
    "\n",
    "#...para metricas\n",
    "from sklearn.metrics import *"
   ]
  },
  {
   "cell_type": "markdown",
   "metadata": {},
   "source": [
    "cargamos los datos ..."
   ]
  },
  {
   "cell_type": "code",
   "execution_count": 2,
   "metadata": {},
   "outputs": [],
   "source": [
    "d = pd.read_csv(\"../data/data_banknote_authentication.txt.gz\")\n",
    "X_train = d.values[:,:-1]\n",
    "y_train = d.values[:,-1]"
   ]
  },
  {
   "cell_type": "markdown",
   "metadata": {},
   "source": [
    "luego seleccionamos un método de clasificación y seguimos:\n",
    "- Fit -> aprender el modelo con respecto a los datos etiquetados\n",
    "- predict -> le pasamos nuestros datos de test\n",
    "- score -> evaluamos el comportamiento de nuestro método"
   ]
  },
  {
   "cell_type": "markdown",
   "metadata": {},
   "source": [
    "evaluando en test ..usando training and test"
   ]
  },
  {
   "cell_type": "code",
   "execution_count": 3,
   "metadata": {},
   "outputs": [
    {
     "name": "stdout",
     "output_type": "stream",
     "text": [
      "shape X_train:  (1234, 4) shape y_train:  (1234,)\n",
      "shape X_test:  (138, 4) shape y_test:  (138,)\n"
     ]
    }
   ],
   "source": [
    "d = pd.read_csv(\"../data/data_banknote_authentication.txt.gz\")\n",
    "X_ = d.values[:,:-1]\n",
    "y_ = d.values[:,-1]\n",
    "n = int(len(X_)*0.9)\n",
    "X_train = X_[:n]\n",
    "y_train = y_[:n]\n",
    "X_test  = X_[n:]\n",
    "y_test  = y_[n:]\n",
    "\n",
    "print \"shape X_train: \" ,  X_train.shape, \"shape y_train: \" ,  y_train.shape\n",
    "print \"shape X_test: \" ,  X_test.shape, \"shape y_test: \" ,  y_test.shape\n",
    "\n"
   ]
  },
  {
   "cell_type": "code",
   "execution_count": 4,
   "metadata": {},
   "outputs": [
    {
     "name": "stdout",
     "output_type": "stream",
     "text": [
      "score 1 0.81\n",
      "score 2: 0.81\n"
     ]
    },
    {
     "data": {
      "text/plain": [
       "0.81159420289855078"
      ]
     },
     "execution_count": 4,
     "metadata": {},
     "output_type": "execute_result"
    }
   ],
   "source": [
    "estimator = GaussianNB()\n",
    "\n",
    "estimator.fit(X_train, y_train)\n",
    "predictions = estimator.predict(X_test)\n",
    "\n",
    "score_1 = accuracy_score(predictions, y_test)\n",
    "score_2 = np.mean(predictions==y_test)\n",
    "print \"score 1 %.2f\"%score_1\n",
    "print \"score 2: %.2f\"%score_2\n",
    "estimator.score(X_test, y_test)"
   ]
  },
  {
   "cell_type": "markdown",
   "metadata": {},
   "source": [
    "# Desafio: Fashion MNIST\n",
    "\n",
    "## Explore the dataset\n",
    "    \n",
    "    1. How many classses ?\n",
    "    2. How many images ?\n",
    "    3. How the distribution of data is?\n",
    "\n",
    "<img src=\"../imgs/fashion-mnist-sprite.png\" style=\"width:300px;\">\n",
    "<img src=\"../imgs/embedding.gif\" style=\"width:300px;\">"
   ]
  },
  {
   "cell_type": "markdown",
   "metadata": {},
   "source": [
    "- Download data from <a href=\"https://github.com/zalandoresearch/fashion-mnist\"> HERE</a>).</small>\n",
    "- Copy data in **../data/fashion/**\n",
    "- **Dont** unzip"
   ]
  },
  {
   "cell_type": "code",
   "execution_count": null,
   "metadata": {},
   "outputs": [],
   "source": [
    "%run ../code/mnist_reader.py\n",
    "\n",
    "X_train, y_train = load_mnist('../data/fashion', kind='train')\n",
    "X_test, y_test = load_mnist('../data/fashion', kind='t10k')"
   ]
  },
  {
   "cell_type": "markdown",
   "metadata": {},
   "source": [
    "- Which sizes have the training and test dataset ?"
   ]
  },
  {
   "cell_type": "code",
   "execution_count": null,
   "metadata": {},
   "outputs": [],
   "source": [
    "\n"
   ]
  },
  {
   "cell_type": "markdown",
   "metadata": {},
   "source": [
    "- only take 50 % of training and test"
   ]
  },
  {
   "cell_type": "code",
   "execution_count": 60,
   "metadata": {},
   "outputs": [],
   "source": []
  },
  {
   "cell_type": "markdown",
   "metadata": {},
   "source": [
    "- what about class balance?"
   ]
  },
  {
   "cell_type": "code",
   "execution_count": null,
   "metadata": {},
   "outputs": [],
   "source": []
  },
  {
   "cell_type": "markdown",
   "metadata": {},
   "source": [
    "- what is the best classfier?"
   ]
  },
  {
   "cell_type": "code",
   "execution_count": null,
   "metadata": {},
   "outputs": [],
   "source": []
  },
  {
   "cell_type": "markdown",
   "metadata": {},
   "source": [
    "- What about a linear kernel in RBF and with 'entropy' for measure the quality of trees "
   ]
  },
  {
   "cell_type": "code",
   "execution_count": null,
   "metadata": {},
   "outputs": [],
   "source": [
    "\n"
   ]
  },
  {
   "cell_type": "markdown",
   "metadata": {},
   "source": [
    "Now, we go to the image representation.\n",
    "- What about histograms?\n",
    "- Visualize some examples"
   ]
  },
  {
   "cell_type": "code",
   "execution_count": null,
   "metadata": {},
   "outputs": [],
   "source": []
  },
  {
   "cell_type": "code",
   "execution_count": null,
   "metadata": {},
   "outputs": [],
   "source": []
  },
  {
   "cell_type": "code",
   "execution_count": null,
   "metadata": {},
   "outputs": [],
   "source": []
  },
  {
   "cell_type": "markdown",
   "metadata": {},
   "source": [
    "- What about PCA representation ?\n",
    "- Dont use cross-validation"
   ]
  },
  {
   "cell_type": "code",
   "execution_count": null,
   "metadata": {},
   "outputs": [],
   "source": []
  },
  {
   "cell_type": "markdown",
   "metadata": {},
   "source": [
    "- convolution is now useful?\n",
    "- gradients are appropieate to describe these images?\n",
    "- perform an experiment using some gradient kernel "
   ]
  },
  {
   "cell_type": "code",
   "execution_count": 41,
   "metadata": {},
   "outputs": [],
   "source": [
    "\n",
    "    "
   ]
  },
  {
   "cell_type": "markdown",
   "metadata": {},
   "source": [
    "-visualize some examples"
   ]
  },
  {
   "cell_type": "code",
   "execution_count": null,
   "metadata": {},
   "outputs": [],
   "source": []
  },
  {
   "cell_type": "markdown",
   "metadata": {},
   "source": [
    "- compute again classifications and do a tunning of parameters"
   ]
  },
  {
   "cell_type": "code",
   "execution_count": null,
   "metadata": {},
   "outputs": [],
   "source": []
  },
  {
   "cell_type": "markdown",
   "metadata": {},
   "source": [
    "- what about several convolution as filters?\n",
    "- what abot convolutions + PCA?\n",
    "- what it is learning curve for different depth trees on random forest?\n",
    "- what is confussion matrix\n"
   ]
  },
  {
   "cell_type": "markdown",
   "metadata": {},
   "source": [
    "# References\n",
    " - https://github.com/zalandoresearch/fashion-mnist"
   ]
  }
 ],
 "metadata": {
  "kernelspec": {
   "display_name": "Python 2",
   "language": "python",
   "name": "python2"
  },
  "language_info": {
   "codemirror_mode": {
    "name": "ipython",
    "version": 2
   },
   "file_extension": ".py",
   "mimetype": "text/x-python",
   "name": "python",
   "nbconvert_exporter": "python",
   "pygments_lexer": "ipython2",
   "version": "2.7.14"
  }
 },
 "nbformat": 4,
 "nbformat_minor": 2
}
